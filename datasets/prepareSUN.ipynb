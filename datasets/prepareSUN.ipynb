{
 "cells": [
  {
   "cell_type": "code",
   "execution_count": 1,
   "metadata": {},
   "outputs": [],
   "source": [
    "#\n",
    "# prepareSUN.ipynb\n",
    "#\n",
    "# Jupyter Notebook to prepare SUN dataset for further zero-shot learning tasks \n",
    "# SUN  : Scene UNderstanding\n",
    "#\n",
    "# n_clases    : 102\n",
    "# n_attributes: 717\n",
    "#\n",
    "# Written by cetinsamet -*- cetin.samet@metu.edu.tr\n",
    "# December, 2019 "
   ]
  },
  {
   "cell_type": "code",
   "execution_count": 2,
   "metadata": {},
   "outputs": [],
   "source": [
    "import scipy.io as sio\n",
    "import numpy as np\n",
    "import os"
   ]
  },
  {
   "cell_type": "code",
   "execution_count": 3,
   "metadata": {},
   "outputs": [],
   "source": [
    "def read_file(filepath):\n",
    "    file_content = []\n",
    "    with open(filepath, 'r') as infile:\n",
    "        for line in infile:\n",
    "            file_content.append(line.strip())\n",
    "    \n",
    "    return file_content"
   ]
  },
  {
   "cell_type": "code",
   "execution_count": 4,
   "metadata": {},
   "outputs": [],
   "source": [
    "SUN_PATH = \"./SUN\"\n",
    "SUNP_PATH = \"./SUNP\" #Preprocessed SUN directory"
   ]
  },
  {
   "cell_type": "code",
   "execution_count": 5,
   "metadata": {},
   "outputs": [
    {
     "name": "stdout",
     "output_type": "stream",
     "text": [
      "580 ['airport_airport', 'ski_jump', 'grotto', 'slum', 'swimming_pool_outdoor', 'velodrome_outdoor', 'martial_arts_gym', 'cavern_indoor', 'downtown', 'bayou', 'fortress', 'throne_room', 'kitchen', 'orchard', 'hacienda', 'balcony_interior', 'newsstand_outdoor', 'museum_indoor', 'foundry_outdoor', 'machine_shop', 'hot_tub_indoor', 'lobby', 'boat_deck', 'railroad_track', 'electrical_substation', 'patio', 'planetarium_outdoor', 'zoo', 'building_facade', 'editing_room', 'power_plant_indoor', 'mastaba', 'aquatic_theater', 'engine_room', 'movie_theater_outdoor', 'rainforest', 'resort', 'trench', 'marsh', 'freeway', 'bar', 'movie_theater_indoor', 'ball_pit', 'schoolyard', 'harbor', 'bleachers_outdoor', 'shopping_mall_indoor', 'veterinarians_office', 'bindery', 'booth_indoor', 'gasworks', 'medina', 'youth_hostel', 'portico', 'theater_indoor_round', 'manhole', 'badminton_court_outdoor', 'mountain_path', 'shed', 'dolmen', 'apse_indoor', 'village', 'workroom', 'moat_dry', 'particle_accelerator', 'coffee_shop', 'kiosk_indoor', 'creek', 'toll_plaza', 'street', 'doorway_outdoor', 'stadium_baseball', 'lagoon', 'office', 'campsite', 'hunting_lodge_outdoor', 'underwater_kelp_forest', 'bullring', 'outcropping', 'covered_bridge_exterior', 'drill_rig', 'phone_booth', 'kitchenette', 'beauty_salon', 'cathedral_outdoor', 'basement', 'cargo_deck_airplane', 'junkyard', 'restaurant', 'dining_room', 'oilrig', 'hotel_outdoor', 'control_tower_indoor', 'fjord', 'pantry', 'ranch_house', 'jacuzzi_outdoor', 'drugstore', 'ranch', 'fountain', 'baptistry_outdoor', 'river', 'bell_foundry', 'carport_freestanding', 'general_store_outdoor', 'pagoda', 'alcove', 'nursery', 'pavilion', 'synagogue_indoor', 'stable', 'hallway', 'dairy_indoor', 'beach', 'carrousel', 'inn_outdoor', 'sun_deck', 'anechoic_chamber', 'pump_room', 'gulch', 'stadium_soccer', 'residential_neighborhood', 'bistro_outdoor', 'pitchers_mound', 'pig_farm', 'airport_ticket_counter', 'gas_station', 'day_care_center', 'museum_outdoor', 'swimming_pool_indoor', 'physics_laboratory', 'mine', 'igloo', 'underwater_pool', 'naval_base', 'water_treatment_plant_outdoor', 'beach_house', 'ferryboat_outdoor', 'strip_mine', 'building_complex', 'forest_needleleaf', 'mini_golf_course_outdoor', 'outhouse_outdoor', 'tearoom', 'church_outdoor', 'wet_bar', 'cloister_outdoor', 'carport_outdoor', 'restroom_indoor', 'bank_outdoor', 'nursing_home', 'game_room', 'desert_sand', 'confessional', 'library_outdoor', 'recycling_plant_outdoor', 'liquor_store_indoor', 'canal_urban', 'conference_hall', 'dinette_vehicle', 'chicken_coop_indoor', 'signal_box', 'embassy', 'jewelry_shop', 'underwater_ocean_deep', 'nuclear_power_plant_outdoor', 'soccer_field', 'athletic_field_outdoor', 'skyscraper', 'call_center', 'gazebo_exterior', 'sand_trap', 'pub_outdoor', 'train_station_outdoor', 'circus_tent_indoor', 'fort', 'stadium_football', 'server_room', 'dock', 'zen_garden', 'elevator_shaft', 'bedchamber', 'mineshaft', 'seawall', 'geodesic_dome_outdoor', 'tennis_court_indoor', 'coast', 'cheese_factory', 'escalator_outdoor', 'airplane_cabin', 'reading_room', 'backstage', 'hospital', 'revolving_door', 'house', 'bicycle_racks', 'field_road', 'florist_shop_indoor', 'wine_cellar_bottle_storage', 'television_studio', 'landfill', 'library_indoor', 'gymnasium_indoor', 'earth_fissure', 'temple_western', 'water_treatment_plant_indoor', 'dining_car', 'departure_lounge', 'armory', 'train_station_station', 'atrium_public', 'ghost_town', 'music_studio', 'cabana', 'water_mill', 'cliff', 'funeral_chapel', 'bookstore', 'dacha', 'barndoor', 'town_house', 'toyshop', 'bamboo_forest', 'bowling_alley', 'airfield', 'amphitheater', 'liquor_store_outdoor', 'aquarium', 'lookout_station_outdoor', 'kindergarden_classroom', 'dining_hall', 'crosswalk', 'rope_bridge', 'car_interior_backseat', 'newsroom', 'winery', 'overpass', 'videostore', 'crawl_space', 'fire_station', 'observatory_indoor', 'wheat_field', 'access_road', 'escalator_indoor', 'living_room', 'circus_tent_outdoor', 'train_railway', 'nuclear_power_plant_indoor', 'submarine_interior', 'mesa', 'ocean', 'gift_shop', 'dentists_office', 'waterfall_block', 'childs_room', 'morgue', 'junk_pile', 'operating_room', 'flight_of_stairs_natural', 'oasis', 'driveway', 'salt_plain', 'butte', 'castle', 'chemical_plant', 'art_studio', 'wind_farm', 'wharf', 'stage_outdoor', 'office_cubicles', 'hut', 'dugout', 'volcano', 'steel_mill_outdoor', 'locker_room', 'islet', 'picnic_area', 'shipping_room', 'recreation_room', 'steel_mill_indoor', 'theater_indoor_procenium', 'skatepark', 'brickyard_outdoor', 'priory', 'hunting_lodge_indoor', 'window_seat', 'greenhouse_indoor', 'sawmill', 'topiary_garden', 'underwater_ice', 'underwater_ocean_shallow', 'casino_indoor', 'ventilation_shaft', 'pulpit', 'baseball_field', 'levee', 'basketball_court_outdoor', 'print_shop', 'apartment_building_outdoor', 'furnace_room', 'ossuary', 'iceberg', 'sandbar', 'airport_terminal', 'velodrome_indoor', 'lido_deck_outdoor', 'pond', 'brewery_outdoor', 'track_outdoor', 'playroom', 'closet', 'beer_garden', 'gorge', 'conference_room', 'auto_showroom', 'oil_refinery_outdoor', 'fish_farm', 'putting_green', 'sea_cliff', 'convenience_store_indoor', 'hedgerow', 'flight_of_stairs_urban', 'mansion', 'botanical_garden', 'boathouse', 'strip_mall', 'power_plant_outdoor', 'van_interior', 'shopfront', 'manufactured_home', 'formal_garden', 'candy_store', 'heath', 'hot_spring', 'bus_interior', 'ramp', 'canyon', 'corridor', 'cockpit', 'burial_chamber', 'tower', 'limousine_interior', 'catwalk', 'park', 'lighthouse', 'root_cellar', 'hospital_room', 'fairway', 'badminton_court_indoor', 'baggage_claim', 'repair_shop', 'bakery_shop', 'quay', 'optician', 'riding_arena', 'hotel_breakfast_area', 'water_tower', 'kasbah', 'oast_house', 'lake_artificial', 'stadium_outdoor', 'teashop', 'pedestrian_overpass_outdoor', 'bus_station_outdoor', 'temple_east_asia', 'waterfall_plunge', 'road_cut', 'restaurant_kitchen', 'courtroom', 'mountain_road', 'subway_interior', 'reception', 'garage_outdoor', 'ice_skating_rink_outdoor', 'cabin_outdoor', 'greenhouse_outdoor', 'military_hut', 'loading_dock', 'butchers_shop', 'tea_garden', 'hedge_maze', 'mountain_snowy', 'forest_road', 'vegetable_garden', 'jail_indoor', 'forest_broadleaf', 'mountain', 'elevator_door', 'cardroom', 'attic', 'poolroom_establishment', 'chicken_farm_outdoor', 'elevator_lobby', 'general_store_indoor', 'ice_floe', 'diner_indoor', 'amusement_park', 'cybercafe', 'abbey', 'supermarket', 'stone_circle', 'food_court', 'runway', 'rubble', 'office_building', 'train_depot', 'voting_booth', 'golf_course', 'canteen', 'kennel_outdoor', 'courthouse', 'bridge', 'joss_house', 'drainage_ditch', 'rolling_mill', 'aqueduct', 'fastfood_restaurant', 'track_indoor', 'forest_path', 'wave', 'natural_history_museum', 'apse_outdoor', 'mausoleum', 'ski_slope', 'industrial_area', 'sewing_room', 'veranda', 'art_gallery', 'roof', 'thriftshop', 'mosque_outdoor', 'underwater_coral_reef', 'parking_garage_outdoor', 'beer_hall', 'warehouse_indoor', 'bakery_kitchen', 'ruin', 'batters_box', 'badlands', 'sauna', 'campus', 'flea_market_outdoor', 'tree_farm', 'football_field', 'tollbooth', 'caravansary', 'chicken_coop_outdoor', 'waterfall_fan', 'flea_market_indoor', 'firing_range_outdoor', 'field_wild', 'batting_cage_indoor', 'swimming_hole', 'auto_racing_paddock', 'swamp', 'clean_room', 'restaurant_patio', 'lean-to', 'witness_stand', 'elevator_freight_elevator', 'jury_box', 'terrace_farm', 'home_theater', 'airport_entrance', 'porch', 'archaelogical_excavation', 'pier', 'arena_hockey', 'ticket_window_outdoor', 'crevasse', 'podium_indoor', 'market_outdoor', 'flood', 'arch', 'hayfield', 'sacristy', 'music_store', 'construction_site', 'dorm_room', 'desert_vegetation', 'restroom_outdoor', 'mission', 'home_office', 'fire_escape', 'classroom', 'subway_station_corridor', 'plantation_house', 'fence', 'dinette_home', 'highway', 'promenade', 'watchtower', 'atrium_home', 'planetarium_indoor', 'pasture', 'control_room', 'catacomb', 'heliport', 'chicken_farm_indoor', 'bullpen', 'jail_outdoor', 'courtyard', 'clothing_store', 'arrival_gate_outdoor', 'parlor', 'shower', 'bedroom', 'control_tower_outdoor', 'roundabout', 'raceway', 'lecture_room', 'fly_bridge', 'biology_laboratory', 'woodland', 'railway_yard', 'trailer_park', 'tennis_court_outdoor', 'hangar_outdoor', 'boardwalk', 'labyrinth_outdoor', 'desert_road', 'rice_paddy', 'cathedral_indoor', 'glacier', 'herb_garden', 'guardhouse', 'pharmacy', 'pet_shop', 'auto_mechanics_indoor', 'bus_shelter', 'barn', 'driving_range_outdoor', 'spillway', 'waterfall_cataract', 'corn_field', 'pilothouse_outdoor', 'conference_center', 'cottage_garden', 'bathroom', 'sushi_bar', 'bank_indoor', 'squash_court', 'military_hospital', 'basilica', 'ice_skating_rink_indoor', 'berth', 'recycling_plant_indoor', 'tree_house', 'utility_room', 'windmill', 'hill', 'irrigation_ditch', 'shipyard_outdoor', 'donjon', 'bistro_indoor', 'laundromat', 'chaparral', 'foundry_indoor', 'gangplank', 'diner_outdoor', 'stage_indoor', 'poolroom_home', 'palace', 'raft', 'snowfield', 'tent_outdoor', 'labyrinth_indoor', 'tent_indoor', 'chalet', 'boxing_ring', 'arena_performance', 'parking_garage_indoor', 'quadrangle', 'jail_cell', 'estuary', 'lake_natural', 'moat_water', 'pizzeria', 'gun_deck_indoor', 'kiosk_outdoor']\n",
      "\n",
      "65 ['pilothouse_indoor', 'factory_indoor', 'lift_bridge', 'cottage', 'lab_classroom', 'stilt_house_water', 'dry_dock', 'dam', 'shoe_shop', 'kennel_indoor', 'organ_loft_exterior', 'balcony_exterior', 'schoolhouse', 'amusement_arcade', 'cafeteria', 'mobile_home', 'trestle_bridge', 'hot_tub_outdoor', 'sky', 'tunnel_rail_outdoor', 'inn_indoor', 'lock_chamber', 'bow_window_outdoor', 'underwater_wreck', 'great_hall', 'gatehouse', 'plaza', 'synagogue_outdoor', 'staircase', 'wine_cellar_barrel_storage', 'waiting_room', 'rock_arch', 'delicatessen', 'cloister_indoor', 'city', 'auto_factory', 'darkroom', 'computer_room', 'industrial_park', 'packaging_plant', 'garbage_dump', 'baptistry_indoor', 'garage_indoor', 'viaduct', 'factory_outdoor', 'weighbridge', 'science_museum', 'market_indoor', 'moor', 'chapel', 'subway_station_platform', 'assembly_line', 'banquet_hall', 'valley', 'discotheque', 'waterfall_cascade', 'podium_outdoor', 'farm', 'ski_lodge', 'theater_outdoor', 'quonset_hut_outdoor', 'parade_ground', 'basketball_court_indoor', 'art_school', 'checkout_counter']\n",
      "\n",
      "645 ['bakery_shop', 'bar', 'barn', 'boathouse', 'bookstore', 'bridge', 'butchers_shop', 'candy_store', 'carrousel', 'castle', 'cliff', 'closet', 'coast', 'dam', 'dock', 'fastfood_restaurant', 'fly_bridge', 'fountain', 'home_theater', 'house', 'lift_bridge', 'lighthouse', 'manufactured_home', 'mobile_home', 'nursery', 'palace', 'patio', 'pier', 'restaurant', 'restaurant_patio', 'roof', 'rope_bridge', 'sandbar', 'sawmill', 'sea_cliff', 'seawall', 'roundabout', 'toyshop', 'trestle_bridge', 'underwater_coral_reef', 'underwater_wreck', 'valley', 'viaduct', 'volcano', 'water_tower', 'vegetable_garden', 'chemical_plant', 'residential_neighborhood', 'tent_indoor', 'utility_room', 'swimming_hole', 'darkroom', 'shipping_room', 'shed', 'gangplank', 'forest_broadleaf', 'ferryboat_outdoor', 'campus', 'railroad_track', 'auto_racing_paddock', 'zoo', 'garage_outdoor', 'strip_mine', 'fish_farm', 'airfield', 'glacier', 'dolmen', 'bistro_outdoor', 'music_store', 'diner_outdoor', 'general_store_outdoor', 'bullpen', 'barndoor', 'discotheque', 'poolroom_home', 'warehouse_indoor', 'art_studio', 'thriftshop', 'campsite', 'golf_course', 'jail_indoor', 'train_railway', 'carport_outdoor', 'atrium_public', 'museum_outdoor', 'woodland', 'fire_escape', 'fjord', 'brewery_outdoor', 'sun_deck', 'balcony_interior', 'videostore', 'underwater_kelp_forest', 'ski_lodge', 'cybercafe', 'tent_outdoor', 'flea_market_indoor', 'day_care_center', 'village', 'mesa', 'mastaba', 'subway_interior', 'jury_box', 'earth_fissure', 'herb_garden', 'chalet', 'beer_garden', 'conference_center', 'wharf', 'food_court', 'drill_rig', 'throne_room', 'hunting_lodge_outdoor', 'control_room', 'dinette_home', 'military_hut', 'berth', 'kitchen', 'water_treatment_plant_outdoor', 'baggage_claim', 'fence', 'clothing_store', 'library_outdoor', 'mission', 'revolving_door', 'sand_trap', 'amphitheater', 'hill', 'aquatic_theater', 'cathedral_indoor', 'nursing_home', 'tea_garden', 'editing_room', 'dinette_vehicle', 'gazebo_exterior', 'limousine_interior', 'forest_needleleaf', 'basketball_court_outdoor', 'martial_arts_gym', 'brickyard_outdoor', 'donjon', 'trench', 'particle_accelerator', 'bus_shelter', 'clean_room', 'banquet_hall', 'weighbridge', 'caravansary', 'rainforest', 'recycling_plant_outdoor', 'newsroom', 'assembly_line', 'flood', 'elevator_door', 'atrium_home', 'oilrig', 'call_center', 'estuary', 'pulpit', 'office_cubicles', 'checkout_counter', 'van_interior', 'ski_slope', 'apse_outdoor', 'morgue', 'ice_skating_rink_indoor', 'chicken_farm_indoor', 'raceway', 'mini_golf_course_outdoor', 'shower', 'stone_circle', 'subway_station_corridor', 'market_outdoor', 'velodrome_outdoor', 'pharmacy', 'power_plant_indoor', 'canteen', 'dining_hall', 'desert_vegetation', 'overpass', 'drainage_ditch', 'print_shop', 'circus_tent_outdoor', 'steel_mill_indoor', 'bank_indoor', 'butte', 'kindergarden_classroom', 'ramp', 'waterfall_cascade', 'military_hospital', 'rolling_mill', 'conference_hall', 'baseball_field', 'boat_deck', 'subway_station_platform', 'control_tower_indoor', 'schoolyard', 'bus_station_outdoor', 'snowfield', 'anechoic_chamber', 'watchtower', 'formal_garden', 'sewing_room', 'catwalk', 'burial_chamber', 'alcove', 'carport_freestanding', 'airport_ticket_counter', 'embassy', 'office', 'stable', 'liquor_store_indoor', 'arena_performance', 'raft', 'kiosk_outdoor', 'resort', 'cabin_outdoor', 'pizzeria', 'dugout', 'courthouse', 'movie_theater_indoor', 'physics_laboratory', 'cardroom', 'tennis_court_outdoor', 'stage_indoor', 'badlands', 'lake_natural', 'waiting_room', 'pitchers_mound', 'pantry', 'lido_deck_outdoor', 'shipyard_outdoor', 'escalator_outdoor', 'crawl_space', 'wine_cellar_barrel_storage', 'cathedral_outdoor', 'temple_east_asia', 'theater_indoor_procenium', 'cottage', 'dry_dock', 'hallway', 'outcropping', 'parking_garage_indoor', 'ice_skating_rink_outdoor', 'phone_booth', 'ghost_town', 'factory_outdoor', 'bedchamber', 'botanical_garden', 'chicken_coop_outdoor', 'corn_field', 'pavilion', 'firing_range_outdoor', 'bamboo_forest', 'industrial_area', 'pig_farm', 'gatehouse', 'restroom_outdoor', 'construction_site', 'gasworks', 'dacha', 'nuclear_power_plant_indoor', 'field_road', 'lab_classroom', 'attic', 'landfill', 'driving_range_outdoor', 'fire_station', 'corridor', 'restaurant_kitchen', 'underwater_ocean_deep', 'witness_stand', 'aquarium', 'manhole', 'courtroom', 'poolroom_establishment', 'hotel_outdoor', 'bedroom', 'kasbah', 'basilica', 'skatepark', 'joss_house', 'nuclear_power_plant_outdoor', 'jewelry_shop', 'tunnel_rail_outdoor', 'mansion', 'bakery_kitchen', 'plantation_house', 'library_indoor', 'basketball_court_indoor', 'oast_house', 'cloister_outdoor', 'underwater_pool', 'tower', 'courtyard', 'portico', 'freeway', 'gift_shop', 'childs_room', 'cloister_indoor', 'quay', 'gulch', 'bell_foundry', 'moat_water', 'conference_room', 'driveway', 'grotto', 'pagoda', 'television_studio', 'escalator_indoor', 'pilothouse_outdoor', 'theater_indoor_round', 'ice_floe', 'levee', 'art_school', 'booth_indoor', 'control_tower_outdoor', 'office_building', 'hut', 'swamp', 'liquor_store_outdoor', 'badminton_court_outdoor', 'auto_showroom', 'oasis', 'plaza', 'inn_outdoor', 'youth_hostel', 'canal_urban', 'veranda', 'synagogue_indoor', 'ski_jump', 'desert_sand', 'park', 'waterfall_cataract', 'guardhouse', 'repair_shop', 'pond', 'factory_indoor', 'pump_room', 'hedge_maze', 'restroom_indoor', 'beer_hall', 'beach_house', 'riding_arena', 'podium_indoor', 'balcony_exterior', 'field_wild', 'soccer_field', 'organ_loft_exterior', 'desert_road', 'hot_spring', 'airport_airport', 'hospital_room', 'topiary_garden', 'hot_tub_indoor', 'podium_outdoor', 'badminton_court_indoor', 'science_museum', 'farm', 'amusement_arcade', 'cafeteria', 'downtown', 'baptistry_indoor', 'parlor', 'heliport', 'garbage_dump', 'theater_outdoor', 'train_station_outdoor', 'gymnasium_indoor', 'packaging_plant', 'ball_pit', 'fortress', 'bowling_alley', 'sky', 'heath', 'airport_terminal', 'lagoon', 'cargo_deck_airplane', 'mine', 'power_plant_outdoor', 'mausoleum', 'aqueduct', 'reading_room', 'quonset_hut_outdoor', 'computer_room', 'kennel_outdoor', 'catacomb', 'waterfall_plunge', 'junkyard', 'tree_house', 'labyrinth_indoor', 'highway', 'bleachers_outdoor', 'game_room', 'quadrangle', 'water_mill', 'lobby', 'confessional', 'salt_plain', 'shoe_shop', 'mountain_path', 'airport_entrance', 'cabana', 'apartment_building_outdoor', 'access_road', 'batting_cage_indoor', 'mosque_outdoor', 'airplane_cabin', 'putting_green', 'kennel_indoor', 'archaelogical_excavation', 'natural_history_museum', 'recreation_room', 'submarine_interior', 'window_seat', 'teashop', 'shopping_mall_indoor', 'railway_yard', 'wine_cellar_bottle_storage', 'hacienda', 'living_room', 'chaparral', 'movie_theater_outdoor', 'pasture', 'hospital', 'casino_indoor', 'elevator_shaft', 'water_treatment_plant_indoor', 'shopfront', 'cavern_indoor', 'root_cellar', 'priory', 'armory', 'stadium_outdoor', 'stadium_football', 'greenhouse_outdoor', 'bicycle_racks', 'planetarium_outdoor', 'gun_deck_indoor', 'wave', 'engine_room', 'boardwalk', 'bullring', 'dentists_office', 'classroom', 'terrace_farm', 'drugstore', 'athletic_field_outdoor', 'orchard', 'beach', 'junk_pile', 'auto_factory', 'pub_outdoor', 'toll_plaza', 'observatory_indoor', 'building_facade', 'swimming_pool_outdoor', 'locker_room', 'lecture_room', 'inn_indoor', 'car_interior_backseat', 'stadium_baseball', 'jail_outdoor', 'doorway_outdoor', 'lean-to', 'veterinarians_office', 'flea_market_outdoor', 'baptistry_outdoor', 'strip_mall', 'boxing_ring', 'supermarket', 'biology_laboratory', 'ruin', 'sacristy', 'beauty_salon', 'mountain_road', 'ocean', 'chicken_coop_indoor', 'creek', 'cottage_garden', 'harbor', 'hayfield', 'rice_paddy', 'pilothouse_indoor', 'jacuzzi_outdoor', 'marsh', 'dining_car', 'velodrome_indoor', 'ticket_window_outdoor', 'home_office', 'parade_ground', 'mineshaft', 'gas_station', 'sauna', 'greenhouse_indoor', 'departure_lounge', 'pedestrian_overpass_outdoor', 'winery', 'pet_shop', 'zen_garden', 'arch', 'forest_road', 'football_field', 'batters_box', 'chicken_farm_outdoor', 'runway', 'elevator_lobby', 'track_indoor', 'windmill', 'lake_artificial', 'apse_indoor', 'lock_chamber', 'ranch_house', 'medina', 'underwater_ocean_shallow', 'crevasse', 'outhouse_outdoor', 'garage_indoor', 'skyscraper', 'amusement_park', 'wind_farm', 'recycling_plant_indoor', 'promenade', 'moor', 'chapel', 'street', 'kiosk_indoor', 'slum', 'bayou', 'temple_western', 'porch', 'river', 'loading_dock', 'general_store_indoor', 'tollbooth', 'museum_indoor', 'hedgerow', 'voting_booth', 'islet', 'waterfall_block', 'machine_shop', 'foundry_indoor', 'igloo', 'irrigation_ditch', 'staircase', 'hunting_lodge_indoor', 'coffee_shop', 'dairy_indoor', 'auto_mechanics_indoor', 'stage_outdoor', 'dorm_room', 'circus_tent_indoor', 'tree_farm', 'market_indoor', 'fairway', 'moat_dry', 'bus_interior', 'newsstand_outdoor', 'optician', 'tearoom', 'convenience_store_indoor', 'road_cut', 'underwater_ice', 'jail_cell', 'crosswalk', 'iceberg', 'naval_base', 'bow_window_outdoor', 'reception', 'tennis_court_indoor', 'track_outdoor', 'lookout_station_outdoor', 'hot_tub_outdoor', 'town_house', 'picnic_area', 'arrival_gate_outdoor', 'arena_hockey', 'train_depot', 'covered_bridge_exterior', 'mountain_snowy', 'backstage', 'signal_box', 'flight_of_stairs_natural', 'art_gallery', 'cockpit', 'great_hall', 'stilt_house_water', 'operating_room', 'diner_indoor', 'rock_arch', 'ventilation_shaft', 'kitchenette', 'furnace_room', 'church_outdoor', 'bistro_indoor', 'trailer_park', 'spillway', 'oil_refinery_outdoor', 'waterfall_fan', 'labyrinth_outdoor', 'playroom', 'bindery', 'building_complex', 'flight_of_stairs_urban', 'ranch', 'laundromat', 'wheat_field', 'workroom', 'rubble', 'mountain', 'hangar_outdoor', 'delicatessen', 'elevator_freight_elevator', 'basement', 'schoolhouse', 'city', 'fort', 'abbey', 'steel_mill_outdoor', 'wet_bar', 'squash_court', 'geodesic_dome_outdoor', 'parking_garage_outdoor', 'electrical_substation', 'sushi_bar', 'bank_outdoor', 'planetarium_indoor', 'florist_shop_indoor', 'foundry_outdoor', 'stadium_soccer', 'funeral_chapel', 'canyon', 'music_studio', 'gorge', 'hotel_breakfast_area', 'train_station_station', 'industrial_park', 'cheese_factory', 'dining_room', 'swimming_pool_indoor', 'server_room', 'ossuary', 'synagogue_outdoor', 'forest_path', 'bathroom']\n",
      "\n",
      "72 ['airlock', 'temple_south_asia', 'monastery_outdoor', 'piano_store', 'watering_hole', 'geodesic_dome_indoor', 'chemistry_lab', 'vineyard', 'brewery_indoor', 'pub_indoor', 'vestry', 'bog', 'wrestling_ring_indoor', 'trading_floor', 'volleyball_court_outdoor', 'racecourse', 'cemetery', 'betting_shop', 'casino_outdoor', 'theater_indoor_seats', 'dirt_track', 'motel', 'ballroom', 'sandbox', 'mosque_indoor', 'batting_cage_outdoor', 'bow_window_indoor', 'car_interior_frontseat', 'alley', 'nightclub', 'arena_basketball', 'hotel_room', 'jacuzzi_indoor', 'tunnel_road_outdoor', 'bank_vault', 'excavation', 'lawn', 'galley', 'bazaar_outdoor', 'canal_natural', 'train_station_platform', 'cubicle_office', 'fishpond', 'ice_shelf', 'bazaar_indoor', 'field_cultivated', 'exhibition_hall', 'observatory_outdoor', 'rectory', 'tundra', 'firing_range_indoor', 'doorway_indoor', 'ticket_booth', 'bus_depot_outdoor', 'auditorium', 'ski_resort', 'ziggurat', 'elevator_interior', 'artists_loft', 'archive', 'playground', 'hoodoo', 'parking_lot', 'yard', 'corral', 'japanese_garden', 'promenade_deck', 'landing_deck', 'workshop', 'hangar_indoor', 'church_indoor', 'savanna']\n",
      "\n"
     ]
    }
   ],
   "source": [
    "# Read training classes  ---  Number of Classes: 27\n",
    "train_classes = read_file(os.path.join(SUN_PATH, \"trainclasses1.txt\"))\n",
    "print(len(train_classes), train_classes)\n",
    "print()\n",
    "\n",
    "# Read validation classes  ---  Number of Classes: 13\n",
    "val_classes = read_file(os.path.join(SUN_PATH, \"valclasses1.txt\"))\n",
    "print(len(val_classes), val_classes)\n",
    "print()\n",
    "\n",
    "# Read training and validation classes  ---  Number of Classes: 40 (27 + 13)\n",
    "trainval_classes = read_file(os.path.join(SUN_PATH, \"trainvalclasses.txt\"))\n",
    "print(len(trainval_classes), trainval_classes)\n",
    "print()\n",
    "\n",
    "# Read test classes  ---  Number of Classes: 10\n",
    "test_classes = read_file(os.path.join(SUN_PATH, \"testclasses.txt\"))\n",
    "print(len(test_classes), test_classes)\n",
    "print()"
   ]
  },
  {
   "cell_type": "code",
   "execution_count": 6,
   "metadata": {},
   "outputs": [
    {
     "name": "stdout",
     "output_type": "stream",
     "text": [
      "(14340, 2048)\n",
      "(14340, 1)\n",
      "dict_keys(['__header__', '__version__', '__globals__', 'allclasses_names', 'att', 'original_att', 'test_seen_loc', 'test_unseen_loc', 'trainval_loc'])\n"
     ]
    }
   ],
   "source": [
    "# Load image features\n",
    "features = sio.loadmat(os.path.join(SUN_PATH, \"res101.mat\"))['features'].T\n",
    "print(features.shape)\n",
    "\n",
    "# Load image labels\n",
    "labels   = sio.loadmat(os.path.join(SUN_PATH, \"res101.mat\"))['labels']\n",
    "print(labels.shape)\n",
    "\n",
    "# Load metadata of dataset\n",
    "metaData = sio.loadmat(os.path.join(SUN_PATH, \"att_splits.mat\"))\n",
    "print(metaData.keys())"
   ]
  },
  {
   "cell_type": "code",
   "execution_count": 7,
   "metadata": {},
   "outputs": [
    {
     "name": "stdout",
     "output_type": "stream",
     "text": [
      "['abbey', 'access_road', 'airfield', 'airlock', 'airplane_cabin', 'airport_airport', 'airport_entrance', 'airport_terminal', 'airport_ticket_counter', 'alcove', 'alley', 'amphitheater', 'amusement_arcade', 'amusement_park', 'anechoic_chamber', 'apartment_building_outdoor', 'apse_indoor', 'apse_outdoor', 'aquarium', 'aquatic_theater', 'aqueduct', 'arch', 'archaelogical_excavation', 'archive', 'arena_basketball', 'arena_hockey', 'arena_performance', 'armory', 'arrival_gate_outdoor', 'art_gallery', 'art_school', 'art_studio', 'artists_loft', 'assembly_line', 'athletic_field_outdoor', 'atrium_home', 'atrium_public', 'attic', 'auditorium', 'auto_factory', 'auto_mechanics_indoor', 'auto_racing_paddock', 'auto_showroom', 'backstage', 'badlands', 'badminton_court_indoor', 'badminton_court_outdoor', 'baggage_claim', 'bakery_kitchen', 'bakery_shop', 'balcony_exterior', 'balcony_interior', 'ball_pit', 'ballroom', 'bamboo_forest', 'bank_indoor', 'bank_outdoor', 'bank_vault', 'banquet_hall', 'baptistry_indoor', 'baptistry_outdoor', 'bar', 'barn', 'barndoor', 'baseball_field', 'basement', 'basilica', 'basketball_court_indoor', 'basketball_court_outdoor', 'bathroom', 'batters_box', 'batting_cage_indoor', 'batting_cage_outdoor', 'bayou', 'bazaar_indoor', 'bazaar_outdoor', 'beach', 'beach_house', 'beauty_salon', 'bedchamber', 'bedroom', 'beer_garden', 'beer_hall', 'bell_foundry', 'berth', 'betting_shop', 'bicycle_racks', 'bindery', 'biology_laboratory', 'bistro_indoor', 'bistro_outdoor', 'bleachers_outdoor', 'boardwalk', 'boat_deck', 'boathouse', 'bog', 'bookstore', 'booth_indoor', 'botanical_garden', 'bow_window_indoor', 'bow_window_outdoor', 'bowling_alley', 'boxing_ring', 'brewery_indoor', 'brewery_outdoor', 'brickyard_outdoor', 'bridge', 'building_complex', 'building_facade', 'bullpen', 'bullring', 'burial_chamber', 'bus_depot_outdoor', 'bus_interior', 'bus_shelter', 'bus_station_outdoor', 'butchers_shop', 'butte', 'cabana', 'cabin_outdoor', 'cafeteria', 'call_center', 'campsite', 'campus', 'canal_natural', 'canal_urban', 'candy_store', 'canteen', 'canyon', 'car_interior_backseat', 'car_interior_frontseat', 'caravansary', 'cardroom', 'cargo_deck_airplane', 'carport_freestanding', 'carport_outdoor', 'carrousel', 'casino_indoor', 'casino_outdoor', 'castle', 'catacomb', 'cathedral_indoor', 'cathedral_outdoor', 'catwalk', 'cavern_indoor', 'cemetery', 'chalet', 'chaparral', 'chapel', 'checkout_counter', 'cheese_factory', 'chemical_plant', 'chemistry_lab', 'chicken_coop_indoor', 'chicken_coop_outdoor', 'chicken_farm_indoor', 'chicken_farm_outdoor', 'childs_room', 'church_indoor', 'church_outdoor', 'circus_tent_indoor', 'circus_tent_outdoor', 'city', 'classroom', 'clean_room', 'cliff', 'cloister_indoor', 'cloister_outdoor', 'closet', 'clothing_store', 'coast', 'cockpit', 'coffee_shop', 'computer_room', 'conference_center', 'conference_hall', 'conference_room', 'confessional', 'construction_site', 'control_room', 'control_tower_indoor', 'control_tower_outdoor', 'convenience_store_indoor', 'corn_field', 'corral', 'corridor', 'cottage', 'cottage_garden', 'courthouse', 'courtroom', 'courtyard', 'covered_bridge_exterior', 'crawl_space', 'creek', 'crevasse', 'crosswalk', 'cubicle_office', 'cybercafe', 'dacha', 'dairy_indoor', 'dam', 'darkroom', 'day_care_center', 'delicatessen', 'dentists_office', 'departure_lounge', 'desert_road', 'desert_sand', 'desert_vegetation', 'diner_indoor', 'diner_outdoor', 'dinette_home', 'dinette_vehicle', 'dining_car', 'dining_hall', 'dining_room', 'dirt_track', 'discotheque', 'dock', 'dolmen', 'donjon', 'doorway_indoor', 'doorway_outdoor', 'dorm_room', 'downtown', 'drainage_ditch', 'drill_rig', 'driveway', 'driving_range_outdoor', 'drugstore', 'dry_dock', 'dugout', 'earth_fissure', 'editing_room', 'electrical_substation', 'elevator_door', 'elevator_freight_elevator', 'elevator_interior', 'elevator_lobby', 'elevator_shaft', 'embassy', 'engine_room', 'escalator_indoor', 'escalator_outdoor', 'estuary', 'excavation', 'exhibition_hall', 'factory_indoor', 'factory_outdoor', 'fairway', 'farm', 'fastfood_restaurant', 'fence', 'ferryboat_outdoor', 'field_cultivated', 'field_road', 'field_wild', 'fire_escape', 'fire_station', 'firing_range_indoor', 'firing_range_outdoor', 'fish_farm', 'fishpond', 'fjord', 'flea_market_indoor', 'flea_market_outdoor', 'flight_of_stairs_natural', 'flight_of_stairs_urban', 'flood', 'florist_shop_indoor', 'fly_bridge', 'food_court', 'football_field', 'forest_broadleaf', 'forest_needleleaf', 'forest_path', 'forest_road', 'formal_garden', 'fort', 'fortress', 'foundry_indoor', 'foundry_outdoor', 'fountain', 'freeway', 'funeral_chapel', 'furnace_room', 'galley', 'game_room', 'gangplank', 'garage_indoor', 'garage_outdoor', 'garbage_dump', 'gas_station', 'gasworks', 'gatehouse', 'gazebo_exterior', 'general_store_indoor', 'general_store_outdoor', 'geodesic_dome_indoor', 'geodesic_dome_outdoor', 'ghost_town', 'gift_shop', 'glacier', 'golf_course', 'gorge', 'great_hall', 'greenhouse_indoor', 'greenhouse_outdoor', 'grotto', 'guardhouse', 'gulch', 'gun_deck_indoor', 'gymnasium_indoor', 'hacienda', 'hallway', 'hangar_indoor', 'hangar_outdoor', 'harbor', 'hayfield', 'heath', 'hedge_maze', 'hedgerow', 'heliport', 'herb_garden', 'highway', 'hill', 'home_office', 'home_theater', 'hoodoo', 'hospital', 'hospital_room', 'hot_spring', 'hot_tub_indoor', 'hot_tub_outdoor', 'hotel_breakfast_area', 'hotel_outdoor', 'hotel_room', 'house', 'hunting_lodge_indoor', 'hunting_lodge_outdoor', 'hut', 'ice_floe', 'ice_shelf', 'ice_skating_rink_indoor', 'ice_skating_rink_outdoor', 'iceberg', 'igloo', 'industrial_area', 'industrial_park', 'inn_indoor', 'inn_outdoor', 'irrigation_ditch', 'islet', 'jacuzzi_indoor', 'jacuzzi_outdoor', 'jail_cell', 'jail_indoor', 'jail_outdoor', 'japanese_garden', 'jewelry_shop', 'joss_house', 'junk_pile', 'junkyard', 'jury_box', 'kasbah', 'kennel_indoor', 'kennel_outdoor', 'kindergarden_classroom', 'kiosk_indoor', 'kiosk_outdoor', 'kitchen', 'kitchenette', 'lab_classroom', 'labyrinth_indoor', 'labyrinth_outdoor', 'lagoon', 'lake_artificial', 'lake_natural', 'landfill', 'landing_deck', 'laundromat', 'lawn', 'lean-to', 'lecture_room', 'levee', 'library_indoor', 'library_outdoor', 'lido_deck_outdoor', 'lift_bridge', 'lighthouse', 'limousine_interior', 'liquor_store_indoor', 'liquor_store_outdoor', 'living_room', 'loading_dock', 'lobby', 'lock_chamber', 'locker_room', 'lookout_station_outdoor', 'machine_shop', 'manhole', 'mansion', 'manufactured_home', 'market_indoor', 'market_outdoor', 'marsh', 'martial_arts_gym', 'mastaba', 'mausoleum', 'medina', 'mesa', 'military_hospital', 'military_hut', 'mine', 'mineshaft', 'mini_golf_course_outdoor', 'mission', 'moat_dry', 'moat_water', 'mobile_home', 'monastery_outdoor', 'moor', 'morgue', 'mosque_indoor', 'mosque_outdoor', 'motel', 'mountain', 'mountain_path', 'mountain_road', 'mountain_snowy', 'movie_theater_indoor', 'movie_theater_outdoor', 'museum_indoor', 'museum_outdoor', 'music_store', 'music_studio', 'natural_history_museum', 'naval_base', 'newsroom', 'newsstand_outdoor', 'nightclub', 'nuclear_power_plant_indoor', 'nuclear_power_plant_outdoor', 'nursery', 'nursing_home', 'oasis', 'oast_house', 'observatory_indoor', 'observatory_outdoor', 'ocean', 'office', 'office_building', 'office_cubicles', 'oil_refinery_outdoor', 'oilrig', 'operating_room', 'optician', 'orchard', 'organ_loft_exterior', 'ossuary', 'outcropping', 'outhouse_outdoor', 'overpass', 'packaging_plant', 'pagoda', 'palace', 'pantry', 'parade_ground', 'park', 'parking_garage_indoor', 'parking_garage_outdoor', 'parking_lot', 'parlor', 'particle_accelerator', 'pasture', 'patio', 'pavilion', 'pedestrian_overpass_outdoor', 'pet_shop', 'pharmacy', 'phone_booth', 'physics_laboratory', 'piano_store', 'picnic_area', 'pier', 'pig_farm', 'pilothouse_indoor', 'pilothouse_outdoor', 'pitchers_mound', 'pizzeria', 'planetarium_indoor', 'planetarium_outdoor', 'plantation_house', 'playground', 'playroom', 'plaza', 'podium_indoor', 'podium_outdoor', 'pond', 'poolroom_establishment', 'poolroom_home', 'porch', 'portico', 'power_plant_indoor', 'power_plant_outdoor', 'print_shop', 'priory', 'promenade', 'promenade_deck', 'pub_indoor', 'pub_outdoor', 'pulpit', 'pump_room', 'putting_green', 'quadrangle', 'quay', 'quonset_hut_outdoor', 'racecourse', 'raceway', 'raft', 'railroad_track', 'railway_yard', 'rainforest', 'ramp', 'ranch', 'ranch_house', 'reading_room', 'reception', 'recreation_room', 'rectory', 'recycling_plant_indoor', 'recycling_plant_outdoor', 'repair_shop', 'residential_neighborhood', 'resort', 'restaurant', 'restaurant_kitchen', 'restaurant_patio', 'restroom_indoor', 'restroom_outdoor', 'revolving_door', 'rice_paddy', 'riding_arena', 'river', 'road_cut', 'rock_arch', 'rolling_mill', 'roof', 'root_cellar', 'rope_bridge', 'roundabout', 'rubble', 'ruin', 'runway', 'sacristy', 'salt_plain', 'sand_trap', 'sandbar', 'sandbox', 'sauna', 'savanna', 'sawmill', 'schoolhouse', 'schoolyard', 'science_museum', 'sea_cliff', 'seawall', 'server_room', 'sewing_room', 'shed', 'shipping_room', 'shipyard_outdoor', 'shoe_shop', 'shopfront', 'shopping_mall_indoor', 'shower', 'signal_box', 'skatepark', 'ski_jump', 'ski_lodge', 'ski_resort', 'ski_slope', 'sky', 'skyscraper', 'slum', 'snowfield', 'soccer_field', 'spillway', 'squash_court', 'stable', 'stadium_baseball', 'stadium_football', 'stadium_outdoor', 'stadium_soccer', 'stage_indoor', 'stage_outdoor', 'staircase', 'steel_mill_indoor', 'steel_mill_outdoor', 'stilt_house_water', 'stone_circle', 'street', 'strip_mall', 'strip_mine', 'submarine_interior', 'subway_interior', 'subway_station_corridor', 'subway_station_platform', 'sun_deck', 'supermarket', 'sushi_bar', 'swamp', 'swimming_hole', 'swimming_pool_indoor', 'swimming_pool_outdoor', 'synagogue_indoor', 'synagogue_outdoor', 'tea_garden', 'tearoom', 'teashop', 'television_studio', 'temple_east_asia', 'temple_south_asia', 'temple_western', 'tennis_court_indoor', 'tennis_court_outdoor', 'tent_indoor', 'tent_outdoor', 'terrace_farm', 'theater_indoor_procenium', 'theater_indoor_round', 'theater_indoor_seats', 'theater_outdoor', 'thriftshop', 'throne_room', 'ticket_booth', 'ticket_window_outdoor', 'toll_plaza', 'tollbooth', 'topiary_garden', 'tower', 'town_house', 'toyshop', 'track_indoor', 'track_outdoor', 'trading_floor', 'trailer_park', 'train_depot', 'train_railway', 'train_station_outdoor', 'train_station_platform', 'train_station_station', 'tree_farm', 'tree_house', 'trench', 'trestle_bridge', 'tundra', 'tunnel_rail_outdoor', 'tunnel_road_outdoor', 'underwater_coral_reef', 'underwater_ice', 'underwater_kelp_forest', 'underwater_ocean_deep', 'underwater_ocean_shallow', 'underwater_pool', 'underwater_wreck', 'utility_room', 'valley', 'van_interior', 'vegetable_garden', 'velodrome_indoor', 'velodrome_outdoor', 'ventilation_shaft', 'veranda', 'vestry', 'veterinarians_office', 'viaduct', 'videostore', 'village', 'vineyard', 'volcano', 'volleyball_court_outdoor', 'voting_booth', 'waiting_room', 'warehouse_indoor', 'watchtower', 'water_mill', 'water_tower', 'water_treatment_plant_indoor', 'water_treatment_plant_outdoor', 'waterfall_block', 'waterfall_cascade', 'waterfall_cataract', 'waterfall_fan', 'waterfall_plunge', 'watering_hole', 'wave', 'weighbridge', 'wet_bar', 'wharf', 'wheat_field', 'wind_farm', 'windmill', 'window_seat', 'wine_cellar_barrel_storage', 'wine_cellar_bottle_storage', 'winery', 'witness_stand', 'woodland', 'workroom', 'workshop', 'wrestling_ring_indoor', 'yard', 'youth_hostel', 'zen_garden', 'ziggurat', 'zoo']\n"
     ]
    }
   ],
   "source": [
    "# Read all classes\n",
    "all_classes = [str(currClass[0][0]) for currClass in metaData['allclasses_names']]\n",
    "print(all_classes)"
   ]
  },
  {
   "cell_type": "code",
   "execution_count": 8,
   "metadata": {},
   "outputs": [
    {
     "name": "stdout",
     "output_type": "stream",
     "text": [
      "|#ofIndices: 580 \t|Train Indices: [0, 1, 2, 4, 5, 6, 7, 8, 9, 11, 13, 14, 15, 16, 17, 18, 19, 20, 21, 22, 25, 26, 27, 28, 29, 31, 34, 35, 36, 37, 40, 41, 42, 43, 44, 45, 46, 47, 48, 49, 51, 52, 54, 55, 56, 60, 61, 62, 63, 64, 65, 66, 68, 69, 70, 71, 73, 76, 77, 78, 79, 80, 81, 82, 83, 84, 86, 87, 88, 89, 90, 91, 92, 93, 94, 96, 97, 98, 101, 102, 104, 105, 106, 107, 108, 109, 110, 111, 113, 114, 115, 116, 117, 118, 119, 121, 122, 123, 125, 126, 127, 128, 129, 131, 132, 133, 134, 135, 136, 137, 139, 140, 141, 142, 143, 144, 146, 147, 150, 151, 153, 154, 155, 156, 157, 159, 160, 161, 163, 164, 165, 167, 168, 169, 170, 171, 172, 174, 175, 176, 177, 178, 179, 180, 181, 182, 183, 185, 187, 188, 189, 190, 191, 192, 193, 194, 195, 197, 198, 199, 202, 204, 205, 206, 207, 208, 209, 210, 211, 212, 213, 214, 215, 218, 219, 220, 222, 223, 224, 225, 226, 227, 228, 229, 231, 232, 233, 234, 235, 236, 238, 239, 240, 241, 242, 243, 244, 249, 251, 252, 253, 255, 256, 257, 258, 260, 261, 263, 264, 265, 266, 267, 268, 269, 270, 271, 272, 273, 274, 275, 276, 277, 278, 279, 280, 281, 282, 283, 284, 285, 287, 288, 290, 292, 293, 295, 296, 297, 299, 300, 301, 302, 303, 304, 306, 307, 308, 309, 310, 311, 312, 313, 314, 316, 317, 318, 319, 320, 321, 322, 323, 324, 325, 326, 327, 329, 330, 331, 332, 334, 335, 337, 338, 339, 340, 341, 343, 344, 345, 346, 347, 350, 351, 352, 354, 355, 356, 357, 359, 360, 361, 362, 363, 364, 366, 367, 368, 369, 370, 371, 373, 374, 375, 376, 377, 378, 380, 382, 383, 384, 385, 386, 387, 389, 390, 391, 392, 393, 394, 395, 397, 398, 399, 400, 401, 402, 404, 405, 406, 407, 408, 409, 410, 411, 412, 413, 414, 415, 416, 417, 418, 422, 424, 426, 427, 428, 429, 430, 431, 432, 433, 434, 435, 436, 437, 438, 439, 441, 442, 443, 444, 445, 446, 447, 449, 450, 451, 452, 453, 454, 455, 456, 457, 459, 460, 461, 462, 464, 465, 466, 468, 469, 470, 472, 473, 474, 475, 476, 477, 478, 479, 480, 481, 483, 484, 485, 487, 488, 489, 490, 491, 492, 494, 496, 498, 499, 500, 501, 502, 503, 504, 505, 506, 507, 510, 511, 512, 513, 514, 515, 518, 519, 520, 521, 522, 523, 524, 525, 526, 527, 528, 530, 531, 532, 533, 534, 535, 536, 537, 538, 539, 540, 541, 542, 543, 544, 546, 547, 548, 549, 550, 551, 552, 553, 554, 555, 556, 557, 559, 561, 563, 565, 566, 567, 568, 569, 570, 571, 573, 574, 575, 576, 577, 578, 581, 583, 584, 585, 586, 587, 588, 589, 590, 591, 592, 593, 594, 595, 597, 598, 600, 601, 602, 603, 604, 605, 606, 608, 609, 610, 611, 612, 613, 614, 615, 617, 618, 619, 620, 621, 623, 624, 625, 626, 627, 628, 629, 630, 633, 634, 636, 637, 638, 639, 640, 641, 642, 643, 644, 646, 647, 648, 649, 651, 652, 653, 654, 659, 660, 661, 662, 663, 664, 666, 668, 669, 670, 671, 672, 673, 675, 677, 678, 680, 682, 684, 685, 686, 687, 688, 689, 690, 692, 693, 694, 696, 698, 699, 700, 701, 702, 703, 705, 706, 707, 708, 709, 713, 714, 716]\n"
     ]
    }
   ],
   "source": [
    "# Find train class indices\n",
    "train_indices = [i for i, class_ in enumerate(all_classes) if class_ in train_classes]\n",
    "print(\"|#ofIndices:\", len(train_indices), \"\\t|Train Indices:\", train_indices)"
   ]
  },
  {
   "cell_type": "code",
   "execution_count": 9,
   "metadata": {},
   "outputs": [
    {
     "name": "stdout",
     "output_type": "stream",
     "text": [
      "|#ofIndices: 65 \t|Val Indices: [12, 30, 33, 39, 50, 58, 59, 67, 100, 120, 148, 149, 162, 166, 173, 186, 200, 201, 203, 217, 230, 247, 248, 250, 289, 291, 294, 305, 333, 348, 349, 365, 372, 388, 396, 403, 419, 421, 458, 463, 467, 486, 495, 497, 516, 545, 562, 564, 572, 579, 582, 596, 599, 607, 616, 632, 655, 657, 665, 667, 676, 683, 691, 697, 704]\n"
     ]
    }
   ],
   "source": [
    "# Find val class indices\n",
    "val_indices = [i for i, class_ in enumerate(all_classes) if class_ in val_classes]\n",
    "print(\"|#ofIndices:\", len(val_indices), \"\\t|Val Indices:\", val_indices)"
   ]
  },
  {
   "cell_type": "code",
   "execution_count": 10,
   "metadata": {},
   "outputs": [
    {
     "name": "stdout",
     "output_type": "stream",
     "text": [
      "|#ofIndices: 645 \t|TrainVal Indices: [0, 1, 2, 4, 5, 6, 7, 8, 9, 11, 12, 13, 14, 15, 16, 17, 18, 19, 20, 21, 22, 25, 26, 27, 28, 29, 30, 31, 33, 34, 35, 36, 37, 39, 40, 41, 42, 43, 44, 45, 46, 47, 48, 49, 50, 51, 52, 54, 55, 56, 58, 59, 60, 61, 62, 63, 64, 65, 66, 67, 68, 69, 70, 71, 73, 76, 77, 78, 79, 80, 81, 82, 83, 84, 86, 87, 88, 89, 90, 91, 92, 93, 94, 96, 97, 98, 100, 101, 102, 104, 105, 106, 107, 108, 109, 110, 111, 113, 114, 115, 116, 117, 118, 119, 120, 121, 122, 123, 125, 126, 127, 128, 129, 131, 132, 133, 134, 135, 136, 137, 139, 140, 141, 142, 143, 144, 146, 147, 148, 149, 150, 151, 153, 154, 155, 156, 157, 159, 160, 161, 162, 163, 164, 165, 166, 167, 168, 169, 170, 171, 172, 173, 174, 175, 176, 177, 178, 179, 180, 181, 182, 183, 185, 186, 187, 188, 189, 190, 191, 192, 193, 194, 195, 197, 198, 199, 200, 201, 202, 203, 204, 205, 206, 207, 208, 209, 210, 211, 212, 213, 214, 215, 217, 218, 219, 220, 222, 223, 224, 225, 226, 227, 228, 229, 230, 231, 232, 233, 234, 235, 236, 238, 239, 240, 241, 242, 243, 244, 247, 248, 249, 250, 251, 252, 253, 255, 256, 257, 258, 260, 261, 263, 264, 265, 266, 267, 268, 269, 270, 271, 272, 273, 274, 275, 276, 277, 278, 279, 280, 281, 282, 283, 284, 285, 287, 288, 289, 290, 291, 292, 293, 294, 295, 296, 297, 299, 300, 301, 302, 303, 304, 305, 306, 307, 308, 309, 310, 311, 312, 313, 314, 316, 317, 318, 319, 320, 321, 322, 323, 324, 325, 326, 327, 329, 330, 331, 332, 333, 334, 335, 337, 338, 339, 340, 341, 343, 344, 345, 346, 347, 348, 349, 350, 351, 352, 354, 355, 356, 357, 359, 360, 361, 362, 363, 364, 365, 366, 367, 368, 369, 370, 371, 372, 373, 374, 375, 376, 377, 378, 380, 382, 383, 384, 385, 386, 387, 388, 389, 390, 391, 392, 393, 394, 395, 396, 397, 398, 399, 400, 401, 402, 403, 404, 405, 406, 407, 408, 409, 410, 411, 412, 413, 414, 415, 416, 417, 418, 419, 421, 422, 424, 426, 427, 428, 429, 430, 431, 432, 433, 434, 435, 436, 437, 438, 439, 441, 442, 443, 444, 445, 446, 447, 449, 450, 451, 452, 453, 454, 455, 456, 457, 458, 459, 460, 461, 462, 463, 464, 465, 466, 467, 468, 469, 470, 472, 473, 474, 475, 476, 477, 478, 479, 480, 481, 483, 484, 485, 486, 487, 488, 489, 490, 491, 492, 494, 495, 496, 497, 498, 499, 500, 501, 502, 503, 504, 505, 506, 507, 510, 511, 512, 513, 514, 515, 516, 518, 519, 520, 521, 522, 523, 524, 525, 526, 527, 528, 530, 531, 532, 533, 534, 535, 536, 537, 538, 539, 540, 541, 542, 543, 544, 545, 546, 547, 548, 549, 550, 551, 552, 553, 554, 555, 556, 557, 559, 561, 562, 563, 564, 565, 566, 567, 568, 569, 570, 571, 572, 573, 574, 575, 576, 577, 578, 579, 581, 582, 583, 584, 585, 586, 587, 588, 589, 590, 591, 592, 593, 594, 595, 596, 597, 598, 599, 600, 601, 602, 603, 604, 605, 606, 607, 608, 609, 610, 611, 612, 613, 614, 615, 616, 617, 618, 619, 620, 621, 623, 624, 625, 626, 627, 628, 629, 630, 632, 633, 634, 636, 637, 638, 639, 640, 641, 642, 643, 644, 646, 647, 648, 649, 651, 652, 653, 654, 655, 657, 659, 660, 661, 662, 663, 664, 665, 666, 667, 668, 669, 670, 671, 672, 673, 675, 676, 677, 678, 680, 682, 683, 684, 685, 686, 687, 688, 689, 690, 691, 692, 693, 694, 696, 697, 698, 699, 700, 701, 702, 703, 704, 705, 706, 707, 708, 709, 713, 714, 716]\n"
     ]
    }
   ],
   "source": [
    "trainval_indices = [i for i, class_ in enumerate(all_classes) if class_ in trainval_classes]\n",
    "print(\"|#ofIndices:\", len(trainval_indices), \"\\t|TrainVal Indices:\", trainval_indices)"
   ]
  },
  {
   "cell_type": "code",
   "execution_count": 11,
   "metadata": {},
   "outputs": [
    {
     "name": "stdout",
     "output_type": "stream",
     "text": [
      "|#ofIndices: 72 \t|Test Indices: [3, 10, 23, 24, 32, 38, 53, 57, 72, 74, 75, 85, 95, 99, 103, 112, 124, 130, 138, 145, 152, 158, 184, 196, 216, 221, 237, 245, 246, 254, 259, 262, 286, 298, 315, 328, 336, 342, 353, 358, 379, 381, 420, 423, 425, 440, 448, 471, 482, 493, 508, 509, 517, 529, 558, 560, 580, 622, 631, 635, 645, 650, 656, 658, 674, 679, 681, 695, 710, 711, 712, 715]\n"
     ]
    }
   ],
   "source": [
    "test_indices = [i for i, class_ in enumerate(all_classes) if class_ in test_classes]\n",
    "print(\"|#ofIndices:\", len(test_indices), \"\\t|Test Indices:\", test_indices)"
   ]
  },
  {
   "cell_type": "code",
   "execution_count": 12,
   "metadata": {},
   "outputs": [
    {
     "name": "stdout",
     "output_type": "stream",
     "text": [
      "Num TrainVal    :  10320\n",
      "Num Test Seen   :  2580\n",
      "Num Test Unseen :  1440\n"
     ]
    }
   ],
   "source": [
    "trainval_loc    = metaData['trainval_loc']\n",
    "test_seen_loc   = metaData['test_seen_loc']\n",
    "test_unseen_loc = metaData['test_unseen_loc']\n",
    "\n",
    "print(\"Num TrainVal    : \", str(trainval_loc.shape[0]))\n",
    "print(\"Num Test Seen   : \", str(test_seen_loc.shape[0]))\n",
    "print(\"Num Test Unseen : \", str(test_unseen_loc.shape[0]))"
   ]
  },
  {
   "cell_type": "code",
   "execution_count": 13,
   "metadata": {},
   "outputs": [],
   "source": [
    "if not os.path.exists(os.path.join(SUNP_PATH, \"test\")):\n",
    "    os.makedirs(os.path.join(SUNP_PATH, \"test\"))\n",
    "\n",
    "if not os.path.exists(os.path.join(SUNP_PATH, \"validation\")):\n",
    "    os.makedirs(os.path.join(SUNP_PATH, \"validation\"))"
   ]
  },
  {
   "cell_type": "code",
   "execution_count": 14,
   "metadata": {},
   "outputs": [],
   "source": [
    "# LABELS (PART I)\n",
    "\n",
    "trainval_labels    = (labels[trainval_loc - 1] - 1).reshape(-1, 1)\n",
    "test_seen_labels   = (labels[test_seen_loc - 1] - 1).reshape(-1, 1)\n",
    "test_unseen_labels = (labels[test_unseen_loc - 1] - 1).reshape(-1, 1)\n",
    "\n",
    "sio.savemat(os.path.join(SUNP_PATH, \"test\", \"trainval_labels.mat\"), {'trainval_labels':trainval_labels})\n",
    "sio.savemat(os.path.join(SUNP_PATH, \"test\", \"test_seen_labels.mat\"), {'test_seen_labels':test_seen_labels})\n",
    "sio.savemat(os.path.join(SUNP_PATH, \"test\", \"test_unseen_labels.mat\"), {'test_unseen_labels':test_unseen_labels})"
   ]
  },
  {
   "cell_type": "code",
   "execution_count": 15,
   "metadata": {},
   "outputs": [],
   "source": [
    "# FEATURES (PART I)\n",
    "\n",
    "trainval_features     = (features[trainval_loc - 1]).reshape(-1, 2048)\n",
    "test_seen_features    = (features[test_seen_loc - 1]).reshape(-1, 2048)\n",
    "test_unseen_features  = (features[test_unseen_loc - 1]).reshape(-1, 2048)\n",
    "\n",
    "sio.savemat(os.path.join(SUNP_PATH, \"test\", \"trainval_features.mat\"), {'trainval_features':trainval_features})\n",
    "sio.savemat(os.path.join(SUNP_PATH, \"test\", \"test_seen_features.mat\"), {'test_seen_features':test_seen_features})\n",
    "sio.savemat(os.path.join(SUNP_PATH, \"test\", \"test_unseen_features.mat\"), {'test_unseen_features':test_unseen_features})"
   ]
  },
  {
   "cell_type": "code",
   "execution_count": 16,
   "metadata": {},
   "outputs": [
    {
     "name": "stdout",
     "output_type": "stream",
     "text": [
      "Num train loc     : 9280\n",
      "Num val unseen loc: 1040\n"
     ]
    }
   ],
   "source": [
    "train_loc      = []\n",
    "val_unseen_loc = [] \n",
    "\n",
    "for i, label in enumerate(trainval_labels):\n",
    "\n",
    "    if label[0] in train_indices:\n",
    "        train_loc.append(i)\n",
    "    elif label[0] in val_indices:\n",
    "        val_unseen_loc.append(i)\n",
    "    else:\n",
    "        pass\n",
    "    \n",
    "val_unseen_loc    = np.asarray(val_unseen_loc)\n",
    "\n",
    "print(\"Num train loc     : %d\" % len(train_loc))\n",
    "print(\"Num val unseen loc: %d\" % len(val_unseen_loc))"
   ]
  },
  {
   "cell_type": "code",
   "execution_count": 17,
   "metadata": {},
   "outputs": [
    {
     "name": "stdout",
     "output_type": "stream",
     "text": [
      "Num x_train loc    : 6217\n",
      "Num x_val_seen loc : 3063\n"
     ]
    }
   ],
   "source": [
    "from sklearn.model_selection import train_test_split\n",
    "splitRate = 0.33\n",
    "\n",
    "x_train_loc, x_val_seen_loc, _, _ = train_test_split(train_loc,\\\n",
    "                                                     trainval_labels[np.asarray(train_loc)],\\\n",
    "                                                     test_size=splitRate,\\\n",
    "                                                     random_state=123)\n",
    "x_train_loc    = np.asarray(x_train_loc)\n",
    "x_val_seen_loc = np.asarray(x_val_seen_loc)\n",
    "print(\"Num x_train loc    : %d\" % len(x_train_loc))\n",
    "print(\"Num x_val_seen loc : %d\" % len(x_val_seen_loc))"
   ]
  },
  {
   "cell_type": "code",
   "execution_count": 18,
   "metadata": {},
   "outputs": [],
   "source": [
    "# LABELS (PART II)\n",
    "\n",
    "train_labels      = trainval_labels[x_train_loc]\n",
    "val_seen_labels   = trainval_labels[x_val_seen_loc]\n",
    "val_unseen_labels = trainval_labels[val_unseen_loc]\n",
    "\n",
    "sio.savemat(os.path.join(SUNP_PATH, \"validation\", \"train_labels.mat\"), {'train_labels':train_labels})\n",
    "sio.savemat(os.path.join(SUNP_PATH, \"validation\", \"val_seen_labels.mat\"), {'val_seen_labels':val_seen_labels})\n",
    "sio.savemat(os.path.join(SUNP_PATH, \"validation\", \"val_unseen_labels.mat\"), {'val_unseen_labels':val_unseen_labels})"
   ]
  },
  {
   "cell_type": "code",
   "execution_count": 19,
   "metadata": {},
   "outputs": [],
   "source": [
    "# FEATURES (PART II)\n",
    "\n",
    "train_features      = trainval_features[x_train_loc]\n",
    "val_seen_features   = trainval_features[x_val_seen_loc]\n",
    "val_unseen_features = trainval_features[val_unseen_loc]\n",
    "\n",
    "sio.savemat(os.path.join(SUNP_PATH, \"validation\", \"train_features.mat\"), {'train_features':train_features})\n",
    "sio.savemat(os.path.join(SUNP_PATH, \"validation\", \"val_seen_features.mat\"), {'val_seen_features':val_seen_features})\n",
    "sio.savemat(os.path.join(SUNP_PATH, \"validation\", \"val_unseen_features.mat\"), {'val_unseen_features':val_unseen_features})"
   ]
  },
  {
   "cell_type": "code",
   "execution_count": 20,
   "metadata": {},
   "outputs": [
    {
     "name": "stdout",
     "output_type": "stream",
     "text": [
      "(717, 102)\n"
     ]
    }
   ],
   "source": [
    "attribute     = metaData['att'].T\n",
    "org_attribute = metaData['original_att'].T\n",
    "print(attribute.shape)"
   ]
  },
  {
   "cell_type": "code",
   "execution_count": 21,
   "metadata": {},
   "outputs": [],
   "source": [
    "# class-level attributes\n",
    "sio.savemat(os.path.join(SUNP_PATH, \"attributes.mat\"), {'attributes':attribute})"
   ]
  }
 ],
 "metadata": {
  "kernelspec": {
   "display_name": "Python 3",
   "language": "python",
   "name": "python3"
  },
  "language_info": {
   "codemirror_mode": {
    "name": "ipython",
    "version": 3
   },
   "file_extension": ".py",
   "mimetype": "text/x-python",
   "name": "python",
   "nbconvert_exporter": "python",
   "pygments_lexer": "ipython3",
   "version": "3.6.5"
  }
 },
 "nbformat": 4,
 "nbformat_minor": 2
}
