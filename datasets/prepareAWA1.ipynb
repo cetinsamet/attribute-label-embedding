{
 "cells": [
  {
   "cell_type": "code",
   "execution_count": 1,
   "metadata": {},
   "outputs": [],
   "source": [
    "#\n",
    "# prepareAWA1.ipynb\n",
    "#\n",
    "# Jupyter Notebook to prepare AWA1 dataset for further zero-shot learning tasks \n",
    "# AWA1  : Animals With Attributes 1\n",
    "#\n",
    "# n_clases    : 50\n",
    "# n_attributes: 85\n",
    "#\n",
    "# Written by cetinsamet -*- cetin.samet@metu.edu.tr\n",
    "# December, 2019 "
   ]
  },
  {
   "cell_type": "code",
   "execution_count": 2,
   "metadata": {},
   "outputs": [],
   "source": [
    "import scipy.io as sio\n",
    "import numpy as np\n",
    "import os"
   ]
  },
  {
   "cell_type": "code",
   "execution_count": 3,
   "metadata": {},
   "outputs": [],
   "source": [
    "def read_file(filepath):\n",
    "    file_content = []\n",
    "    with open(filepath, 'r') as infile:\n",
    "        for line in infile:\n",
    "            file_content.append(line.strip())\n",
    "    \n",
    "    return file_content"
   ]
  },
  {
   "cell_type": "code",
   "execution_count": 4,
   "metadata": {},
   "outputs": [],
   "source": [
    "AWA1_PATH = \"./AWA1\"\n",
    "AWA1P_PATH = \"./AWA1P\" #Preprocessed AWA1 directory"
   ]
  },
  {
   "cell_type": "code",
   "execution_count": 5,
   "metadata": {},
   "outputs": [
    {
     "name": "stdout",
     "output_type": "stream",
     "text": [
      "27 ['squirrel', 'collie', 'grizzly+bear', 'otter', 'mouse', 'siamese+cat', 'wolf', 'elephant', 'polar+bear', 'antelope', 'chihuahua', 'skunk', 'buffalo', 'weasel', 'fox', 'german+shepherd', 'persian+cat', 'spider+monkey', 'hippopotamus', 'humpback+whale', 'cow', 'rhinoceros', 'tiger', 'killer+whale', 'lion', 'zebra', 'pig']\n",
      "\n",
      "13 ['mole', 'beaver', 'deer', 'gorilla', 'chimpanzee', 'dalmatian', 'ox', 'giant+panda', 'leopard', 'hamster', 'moose', 'rabbit', 'raccoon']\n",
      "\n",
      "40 ['killer+whale', 'beaver', 'dalmatian', 'persian+cat', 'german+shepherd', 'siamese+cat', 'skunk', 'mole', 'tiger', 'hippopotamus', 'leopard', 'spider+monkey', 'elephant', 'gorilla', 'ox', 'chimpanzee', 'hamster', 'fox', 'squirrel', 'rabbit', 'wolf', 'chihuahua', 'weasel', 'otter', 'buffalo', 'zebra', 'giant+panda', 'pig', 'lion', 'polar+bear', 'collie', 'cow', 'deer', 'mouse', 'humpback+whale', 'antelope', 'grizzly+bear', 'rhinoceros', 'raccoon', 'moose']\n",
      "\n",
      "10 ['sheep', 'dolphin', 'bat', 'seal', 'blue+whale', 'rat', 'horse', 'walrus', 'giraffe', 'bobcat']\n",
      "\n"
     ]
    }
   ],
   "source": [
    "# Read training classes  ---  Number of Classes: 27\n",
    "train_classes = read_file(os.path.join(AWA1_PATH, \"trainclasses1.txt\"))\n",
    "print(len(train_classes), train_classes)\n",
    "print()\n",
    "\n",
    "# Read validation classes  ---  Number of Classes: 13\n",
    "val_classes = read_file(os.path.join(AWA1_PATH, \"valclasses1.txt\"))\n",
    "print(len(val_classes), val_classes)\n",
    "print()\n",
    "\n",
    "# Read training and validation classes  ---  Number of Classes: 40 (27 + 13)\n",
    "trainval_classes = read_file(os.path.join(AWA1_PATH, \"trainvalclasses.txt\"))\n",
    "print(len(trainval_classes), trainval_classes)\n",
    "print()\n",
    "\n",
    "# Read test classes  ---  Number of Classes: 10\n",
    "test_classes = read_file(os.path.join(AWA1_PATH, \"testclasses.txt\"))\n",
    "print(len(test_classes), test_classes)\n",
    "print()"
   ]
  },
  {
   "cell_type": "code",
   "execution_count": 6,
   "metadata": {},
   "outputs": [
    {
     "name": "stdout",
     "output_type": "stream",
     "text": [
      "(30475, 2048)\n",
      "(30475, 1)\n",
      "dict_keys(['__header__', '__version__', '__globals__', 'allclasses_names', 'att', 'original_att', 'test_seen_loc', 'test_unseen_loc', 'trainval_loc', 'train_loc', 'val_loc'])\n"
     ]
    }
   ],
   "source": [
    "# Load image features\n",
    "features = sio.loadmat(os.path.join(AWA1_PATH, \"res101.mat\"))['features'].T\n",
    "print(features.shape)\n",
    "\n",
    "# Load image labels\n",
    "labels   = sio.loadmat(os.path.join(AWA1_PATH, \"res101.mat\"))['labels']\n",
    "print(labels.shape)\n",
    "\n",
    "# Load metadata of dataset\n",
    "metaData = sio.loadmat(os.path.join(AWA1_PATH, \"att_splits.mat\"))\n",
    "print(metaData.keys())"
   ]
  },
  {
   "cell_type": "code",
   "execution_count": 7,
   "metadata": {},
   "outputs": [
    {
     "name": "stdout",
     "output_type": "stream",
     "text": [
      "['antelope', 'grizzly+bear', 'killer+whale', 'beaver', 'dalmatian', 'persian+cat', 'horse', 'german+shepherd', 'blue+whale', 'siamese+cat', 'skunk', 'mole', 'tiger', 'hippopotamus', 'leopard', 'moose', 'spider+monkey', 'humpback+whale', 'elephant', 'gorilla', 'ox', 'fox', 'sheep', 'seal', 'chimpanzee', 'hamster', 'squirrel', 'rhinoceros', 'rabbit', 'bat', 'giraffe', 'wolf', 'chihuahua', 'rat', 'weasel', 'otter', 'buffalo', 'zebra', 'giant+panda', 'deer', 'bobcat', 'pig', 'lion', 'mouse', 'polar+bear', 'collie', 'walrus', 'raccoon', 'cow', 'dolphin']\n"
     ]
    }
   ],
   "source": [
    "# Read all classes\n",
    "all_classes = [str(currClass[0][0]) for currClass in metaData['allclasses_names']]\n",
    "print(all_classes)"
   ]
  },
  {
   "cell_type": "code",
   "execution_count": 8,
   "metadata": {},
   "outputs": [
    {
     "name": "stdout",
     "output_type": "stream",
     "text": [
      "|#ofIndices: 27 \t|Train Indices: [0, 1, 2, 5, 7, 9, 10, 12, 13, 16, 17, 18, 21, 26, 27, 31, 32, 34, 35, 36, 37, 41, 42, 43, 44, 45, 48]\n"
     ]
    }
   ],
   "source": [
    "# Find train class indices\n",
    "train_indices = [i for i, class_ in enumerate(all_classes) if class_ in train_classes]\n",
    "print(\"|#ofIndices:\", len(train_indices), \"\\t|Train Indices:\", train_indices)"
   ]
  },
  {
   "cell_type": "code",
   "execution_count": 9,
   "metadata": {},
   "outputs": [
    {
     "name": "stdout",
     "output_type": "stream",
     "text": [
      "|#ofIndices: 13 \t|Val Indices: [3, 4, 11, 14, 15, 19, 20, 24, 25, 28, 38, 39, 47]\n"
     ]
    }
   ],
   "source": [
    "# Find val class indices\n",
    "val_indices = [i for i, class_ in enumerate(all_classes) if class_ in val_classes]\n",
    "print(\"|#ofIndices:\", len(val_indices), \"\\t|Val Indices:\", val_indices)"
   ]
  },
  {
   "cell_type": "code",
   "execution_count": 10,
   "metadata": {},
   "outputs": [
    {
     "name": "stdout",
     "output_type": "stream",
     "text": [
      "|#ofIndices: 40 \t|TrainVal Indices: [0, 1, 2, 3, 4, 5, 7, 9, 10, 11, 12, 13, 14, 15, 16, 17, 18, 19, 20, 21, 24, 25, 26, 27, 28, 31, 32, 34, 35, 36, 37, 38, 39, 41, 42, 43, 44, 45, 47, 48]\n"
     ]
    }
   ],
   "source": [
    "trainval_indices = [i for i, class_ in enumerate(all_classes) if class_ in trainval_classes]\n",
    "print(\"|#ofIndices:\", len(trainval_indices), \"\\t|TrainVal Indices:\", trainval_indices)"
   ]
  },
  {
   "cell_type": "code",
   "execution_count": 11,
   "metadata": {},
   "outputs": [
    {
     "name": "stdout",
     "output_type": "stream",
     "text": [
      "|#ofIndices: 10 \t|Test Indices: [6, 8, 22, 23, 29, 30, 33, 40, 46, 49]\n"
     ]
    }
   ],
   "source": [
    "test_indices = [i for i, class_ in enumerate(all_classes) if class_ in test_classes]\n",
    "print(\"|#ofIndices:\", len(test_indices), \"\\t|Test Indices:\", test_indices)"
   ]
  },
  {
   "cell_type": "code",
   "execution_count": 12,
   "metadata": {},
   "outputs": [
    {
     "name": "stdout",
     "output_type": "stream",
     "text": [
      "Num TrainVal    :  19832\n",
      "Num Test Seen   :  4958\n",
      "Num Test Unseen :  5685\n"
     ]
    }
   ],
   "source": [
    "trainval_loc    = metaData['trainval_loc']\n",
    "test_seen_loc   = metaData['test_seen_loc']\n",
    "test_unseen_loc = metaData['test_unseen_loc']\n",
    "\n",
    "print(\"Num TrainVal    : \", str(trainval_loc.shape[0]))\n",
    "print(\"Num Test Seen   : \", str(test_seen_loc.shape[0]))\n",
    "print(\"Num Test Unseen : \", str(test_unseen_loc.shape[0]))"
   ]
  },
  {
   "cell_type": "code",
   "execution_count": 13,
   "metadata": {},
   "outputs": [],
   "source": [
    "if not os.path.exists(os.path.join(AWA1P_PATH, \"test\")):\n",
    "    os.makedirs(os.path.join(AWA1P_PATH, \"test\"))\n",
    "\n",
    "if not os.path.exists(os.path.join(AWA1P_PATH, \"validation\")):\n",
    "    os.makedirs(os.path.join(AWA1P_PATH, \"validation\"))"
   ]
  },
  {
   "cell_type": "code",
   "execution_count": 14,
   "metadata": {},
   "outputs": [],
   "source": [
    "# LABELS (PART I)\n",
    "\n",
    "trainval_labels    = (labels[trainval_loc - 1] - 1).reshape(-1, 1)\n",
    "test_seen_labels   = (labels[test_seen_loc - 1] - 1).reshape(-1, 1)\n",
    "test_unseen_labels = (labels[test_unseen_loc - 1] - 1).reshape(-1, 1)\n",
    "\n",
    "sio.savemat(os.path.join(AWA1P_PATH, \"test\", \"trainval_labels.mat\"), {'trainval_labels':trainval_labels})\n",
    "sio.savemat(os.path.join(AWA1P_PATH, \"test\", \"test_seen_labels.mat\"), {'test_seen_labels':test_seen_labels})\n",
    "sio.savemat(os.path.join(AWA1P_PATH, \"test\", \"test_unseen_labels.mat\"), {'test_unseen_labels':test_unseen_labels})"
   ]
  },
  {
   "cell_type": "code",
   "execution_count": 15,
   "metadata": {},
   "outputs": [],
   "source": [
    "# FEATURES (PART I)\n",
    "\n",
    "trainval_features     = (features[trainval_loc - 1]).reshape(-1, 2048)\n",
    "test_seen_features    = (features[test_seen_loc - 1]).reshape(-1, 2048)\n",
    "test_unseen_features  = (features[test_unseen_loc - 1]).reshape(-1, 2048)\n",
    "\n",
    "sio.savemat(os.path.join(AWA1P_PATH, \"test\", \"trainval_features.mat\"), {'trainval_features':trainval_features})\n",
    "sio.savemat(os.path.join(AWA1P_PATH, \"test\", \"test_seen_features.mat\"), {'test_seen_features':test_seen_features})\n",
    "sio.savemat(os.path.join(AWA1P_PATH, \"test\", \"test_unseen_features.mat\"), {'test_unseen_features':test_unseen_features})"
   ]
  },
  {
   "cell_type": "code",
   "execution_count": 16,
   "metadata": {},
   "outputs": [
    {
     "name": "stdout",
     "output_type": "stream",
     "text": [
      "Num train loc     : 13460\n",
      "Num val unseen loc: 6372\n"
     ]
    }
   ],
   "source": [
    "train_loc      = []\n",
    "val_unseen_loc = [] \n",
    "\n",
    "for i, label in enumerate(trainval_labels):\n",
    "\n",
    "    if label[0] in train_indices:\n",
    "        train_loc.append(i)\n",
    "    elif label[0] in val_indices:\n",
    "        val_unseen_loc.append(i)\n",
    "    else:\n",
    "        pass\n",
    "    \n",
    "val_unseen_loc    = np.asarray(val_unseen_loc)\n",
    "\n",
    "print(\"Num train loc     : %d\" % len(train_loc))\n",
    "print(\"Num val unseen loc: %d\" % len(val_unseen_loc))"
   ]
  },
  {
   "cell_type": "code",
   "execution_count": 17,
   "metadata": {},
   "outputs": [
    {
     "name": "stdout",
     "output_type": "stream",
     "text": [
      "Num x_train loc    : 12114\n",
      "Num x_val_seen loc : 1346\n"
     ]
    }
   ],
   "source": [
    "from sklearn.model_selection import train_test_split\n",
    "splitRate = 0.1\n",
    "\n",
    "x_train_loc, x_val_seen_loc, _, _ = train_test_split(train_loc,\\\n",
    "                                                     trainval_labels[np.asarray(train_loc)],\\\n",
    "                                                     test_size=splitRate,\\\n",
    "                                                     random_state=123)\n",
    "x_train_loc    = np.asarray(x_train_loc)\n",
    "x_val_seen_loc = np.asarray(x_val_seen_loc)\n",
    "print(\"Num x_train loc    : %d\" % len(x_train_loc))\n",
    "print(\"Num x_val_seen loc : %d\" % len(x_val_seen_loc))"
   ]
  },
  {
   "cell_type": "code",
   "execution_count": 18,
   "metadata": {},
   "outputs": [],
   "source": [
    "# LABELS (PART II)\n",
    "\n",
    "train_labels      = trainval_labels[x_train_loc]\n",
    "val_seen_labels   = trainval_labels[x_val_seen_loc]\n",
    "val_unseen_labels = trainval_labels[val_unseen_loc]\n",
    "\n",
    "sio.savemat(os.path.join(AWA1P_PATH, \"validation\", \"train_labels.mat\"), {'train_labels':train_labels})\n",
    "sio.savemat(os.path.join(AWA1P_PATH, \"validation\", \"val_seen_labels.mat\"), {'val_seen_labels':val_seen_labels})\n",
    "sio.savemat(os.path.join(AWA1P_PATH, \"validation\", \"val_unseen_labels.mat\"), {'val_unseen_labels':val_unseen_labels})"
   ]
  },
  {
   "cell_type": "code",
   "execution_count": 19,
   "metadata": {},
   "outputs": [],
   "source": [
    "# FEATURES (PART II)\n",
    "\n",
    "train_features      = trainval_features[x_train_loc]\n",
    "val_seen_features   = trainval_features[x_val_seen_loc]\n",
    "val_unseen_features = trainval_features[val_unseen_loc]\n",
    "\n",
    "sio.savemat(os.path.join(AWA1P_PATH, \"validation\", \"train_features.mat\"), {'train_features':train_features})\n",
    "sio.savemat(os.path.join(AWA1P_PATH, \"validation\", \"val_seen_features.mat\"), {'val_seen_features':val_seen_features})\n",
    "sio.savemat(os.path.join(AWA1P_PATH, \"validation\", \"val_unseen_features.mat\"), {'val_unseen_features':val_unseen_features})"
   ]
  },
  {
   "cell_type": "code",
   "execution_count": 20,
   "metadata": {},
   "outputs": [
    {
     "name": "stdout",
     "output_type": "stream",
     "text": [
      "(50, 85)\n"
     ]
    }
   ],
   "source": [
    "attribute     = metaData['att'].T\n",
    "org_attribute = metaData['original_att'].T\n",
    "print(attribute.shape)"
   ]
  },
  {
   "cell_type": "code",
   "execution_count": 22,
   "metadata": {},
   "outputs": [],
   "source": [
    "# class-level attributes\n",
    "sio.savemat(os.path.join(AWA1P_PATH, \"attributes.mat\"), {'attributes':attribute})"
   ]
  }
 ],
 "metadata": {
  "kernelspec": {
   "display_name": "Python 3",
   "language": "python",
   "name": "python3"
  },
  "language_info": {
   "codemirror_mode": {
    "name": "ipython",
    "version": 3
   },
   "file_extension": ".py",
   "mimetype": "text/x-python",
   "name": "python",
   "nbconvert_exporter": "python",
   "pygments_lexer": "ipython3",
   "version": "3.7.4"
  }
 },
 "nbformat": 4,
 "nbformat_minor": 2
}
