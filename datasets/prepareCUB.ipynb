{
 "cells": [
  {
   "cell_type": "code",
   "execution_count": 1,
   "metadata": {},
   "outputs": [],
   "source": [
    "#\n",
    "# prepareCUB.ipynb\n",
    "#\n",
    "# Jupyter Notebook to prepare CUB dataset for further zero-shot learning tasks \n",
    "# CUB  : Caltech-UCSD Birds 200\n",
    "#\n",
    "# n_clases    : 200\n",
    "# n_attributes: 312\n",
    "#\n",
    "# Written by cetinsamet -*- cetin.samet@metu.edu.tr\n",
    "# December, 2019 "
   ]
  },
  {
   "cell_type": "code",
   "execution_count": 2,
   "metadata": {},
   "outputs": [],
   "source": [
    "import scipy.io as sio\n",
    "import numpy as np\n",
    "import os"
   ]
  },
  {
   "cell_type": "code",
   "execution_count": 3,
   "metadata": {},
   "outputs": [],
   "source": [
    "def read_file(filepath):\n",
    "    file_content = []\n",
    "    with open(filepath, 'r') as infile:\n",
    "        for line in infile:\n",
    "            file_content.append(line.strip())\n",
    "    \n",
    "    return file_content"
   ]
  },
  {
   "cell_type": "code",
   "execution_count": 4,
   "metadata": {},
   "outputs": [],
   "source": [
    "CUB_PATH = \"./CUB\"\n",
    "CUBP_PATH = \"./CUBP\" #Preprocessed CUB directory"
   ]
  },
  {
   "cell_type": "code",
   "execution_count": 5,
   "metadata": {},
   "outputs": [
    {
     "name": "stdout",
     "output_type": "stream",
     "text": [
      "100 ['108.White_necked_Raven', '167.Hooded_Warbler', '142.Black_Tern', '039.Least_Flycatcher', '002.Laysan_Albatross', '187.American_Three_toed_Woodpecker', '106.Horned_Puffin', '181.Worm_eating_Warbler', '060.Glaucous_winged_Gull', '015.Lazuli_Bunting', '067.Anna_Hummingbird', '107.Common_Raven', '013.Bobolink', '105.Whip_poor_Will', '088.Western_Meadowlark', '147.Least_Tern', '006.Least_Auklet', '160.Black_throated_Blue_Warbler', '110.Geococcyx', '183.Northern_Waterthrush', '024.Red_faced_Cormorant', '152.Blue_headed_Vireo', '022.Chuck_will_Widow', '008.Rhinoceros_Auklet', '019.Gray_Catbird', '154.Red_eyed_Vireo', '185.Bohemian_Waxwing', '068.Ruby_throated_Hummingbird', '196.House_Wren', '122.Harris_Sparrow', '014.Indigo_Bunting', '020.Yellow_breasted_Chat', '054.Blue_Grosbeak', '038.Great_Crested_Flycatcher', '115.Brewer_Sparrow', '079.Belted_Kingfisher', '101.White_Pelican', '027.Shiny_Cowbird', '186.Cedar_Waxwing', '053.Western_Grebe', '099.Ovenbird', '003.Sooty_Albatross', '030.Fish_Crow', '112.Great_Grey_Shrike', '092.Nighthawk', '166.Golden_winged_Warbler', '071.Long_tailed_Jaeger', '078.Gray_Kingbird', '172.Nashville_Warbler', '159.Black_and_white_Warbler', '131.Vesper_Sparrow', '197.Marsh_Wren', '017.Cardinal', '042.Vermilion_Flycatcher', '133.White_throated_Sparrow', '085.Horned_Lark', '176.Prairie_Warbler', '016.Painted_Bunting', '129.Song_Sparrow', '171.Myrtle_Warbler', '090.Red_breasted_Merganser', '146.Forsters_Tern', '044.Frigatebird', '035.Purple_Finch', '065.Slaty_backed_Gull', '041.Scissor_tailed_Flycatcher', '050.Eared_Grebe', '081.Pied_Kingfisher', '062.Herring_Gull', '082.Ringed_Kingfisher', '125.Lincoln_Sparrow', '170.Mourning_Warbler', '021.Eastern_Towhee', '193.Bewick_Wren', '096.Hooded_Oriole', '095.Baltimore_Oriole', '040.Olive_sided_Flycatcher', '037.Acadian_Flycatcher', '075.Green_Jay', '058.Pigeon_Guillemot', '145.Elegant_Tern', '102.Western_Wood_Pewee', '025.Pelagic_Cormorant', '001.Black_footed_Albatross', '093.Clark_Nutcracker', '137.Cliff_Swallow', '149.Brown_Thrasher', '175.Pine_Warbler', '047.American_Goldfinch', '199.Winter_Wren', '178.Swainson_Warbler', '126.Nelson_Sharp_tailed_Sparrow', '046.Gadwall', '011.Rusty_Blackbird', '135.Bank_Swallow', '032.Mangrove_Cuckoo', '120.Fox_Sparrow', '010.Red_winged_Blackbird', '057.Rose_breasted_Grosbeak', '134.Cape_Glossy_Starling']\n",
      "\n",
      "50 ['076.Dark_eyed_Junco', '117.Clay_colored_Sparrow', '150.Sage_Thrasher', '182.Yellow_Warbler', '140.Summer_Tanager', '069.Rufous_Hummingbird', '048.European_Goldfinch', '114.Black_throated_Sparrow', '109.American_Redstart', '005.Crested_Auklet', '051.Horned_Grebe', '144.Common_Tern', '177.Prothonotary_Warbler', '153.Philadelphia_Vireo', '189.Red_bellied_Woodpecker', '151.Black_capped_Vireo', '162.Canada_Warbler', '089.Hooded_Merganser', '155.Warbling_Vireo', '059.California_Gull', '066.Western_Gull', '184.Louisiana_Waterthrush', '198.Rock_Wren', '063.Ivory_Gull', '194.Cactus_Wren', '195.Carolina_Wren', '083.White_breasted_Kingfisher', '080.Green_Kingfisher', '036.Northern_Flicker', '018.Spotted_Catbird', '056.Pine_Grosbeak', '192.Downy_Woodpecker', '128.Seaside_Sparrow', '073.Blue_Jay', '121.Grasshopper_Sparrow', '034.Gray_crowned_Rosy_Finch', '064.Ring_billed_Gull', '174.Palm_Warbler', '118.House_Sparrow', '061.Heermann_Gull', '116.Chipping_Sparrow', '029.American_Crow', '009.Brewer_Blackbird', '158.Bay_breasted_Warbler', '086.Pacific_Loon', '179.Tennessee_Warbler', '074.Florida_Jay', '007.Parakeet_Auklet', '100.Brown_Pelican', '141.Artic_Tern']\n",
      "\n",
      "150 ['002.Laysan_Albatross', '003.Sooty_Albatross', '015.Lazuli_Bunting', '016.Painted_Bunting', '020.Yellow_breasted_Chat', '022.Chuck_will_Widow', '047.American_Goldfinch', '048.European_Goldfinch', '067.Anna_Hummingbird', '068.Ruby_throated_Hummingbird', '069.Rufous_Hummingbird', '073.Blue_Jay', '074.Florida_Jay', '075.Green_Jay', '076.Dark_eyed_Junco', '089.Hooded_Merganser', '090.Red_breasted_Merganser', '100.Brown_Pelican', '149.Brown_Thrasher', '150.Sage_Thrasher', '001.Black_footed_Albatross', '014.Indigo_Bunting', '034.Gray_crowned_Rosy_Finch', '035.Purple_Finch', '101.White_Pelican', '120.Fox_Sparrow', '110.Geococcyx', '085.Horned_Lark', '008.Rhinoceros_Auklet', '054.Blue_Grosbeak', '171.Myrtle_Warbler', '041.Scissor_tailed_Flycatcher', '056.Pine_Grosbeak', '109.American_Redstart', '187.American_Three_toed_Woodpecker', '175.Pine_Warbler', '030.Fish_Crow', '195.Carolina_Wren', '051.Horned_Grebe', '107.Common_Raven', '117.Clay_colored_Sparrow', '135.Bank_Swallow', '134.Cape_Glossy_Starling', '046.Gadwall', '147.Least_Tern', '037.Acadian_Flycatcher', '160.Black_throated_Blue_Warbler', '126.Nelson_Sharp_tailed_Sparrow', '137.Cliff_Swallow', '125.Lincoln_Sparrow', '027.Shiny_Cowbird', '189.Red_bellied_Woodpecker', '197.Marsh_Wren', '186.Cedar_Waxwing', '158.Bay_breasted_Warbler', '064.Ring_billed_Gull', '044.Frigatebird', '007.Parakeet_Auklet', '183.Northern_Waterthrush', '142.Black_Tern', '086.Pacific_Loon', '159.Black_and_white_Warbler', '081.Pied_Kingfisher', '128.Seaside_Sparrow', '011.Rusty_Blackbird', '145.Elegant_Tern', '029.American_Crow', '166.Golden_winged_Warbler', '059.California_Gull', '095.Baltimore_Oriole', '155.Warbling_Vireo', '010.Red_winged_Blackbird', '141.Artic_Tern', '102.Western_Wood_Pewee', '079.Belted_Kingfisher', '106.Horned_Puffin', '192.Downy_Woodpecker', '005.Crested_Auklet', '083.White_breasted_Kingfisher', '178.Swainson_Warbler', '162.Canada_Warbler', '194.Cactus_Wren', '196.House_Wren', '050.Eared_Grebe', '039.Least_Flycatcher', '105.Whip_poor_Will', '036.Northern_Flicker', '032.Mangrove_Cuckoo', '146.Forsters_Tern', '082.Ringed_Kingfisher', '060.Glaucous_winged_Gull', '144.Common_Tern', '199.Winter_Wren', '093.Clark_Nutcracker', '198.Rock_Wren', '066.Western_Gull', '099.Ovenbird', '053.Western_Grebe', '151.Black_capped_Vireo', '018.Spotted_Catbird', '152.Blue_headed_Vireo', '116.Chipping_Sparrow', '061.Heermann_Gull', '025.Pelagic_Cormorant', '024.Red_faced_Cormorant', '078.Gray_Kingbird', '017.Cardinal', '176.Prairie_Warbler', '058.Pigeon_Guillemot', '021.Eastern_Towhee', '193.Bewick_Wren', '057.Rose_breasted_Grosbeak', '040.Olive_sided_Flycatcher', '153.Philadelphia_Vireo', '088.Western_Meadowlark', '013.Bobolink', '118.House_Sparrow', '121.Grasshopper_Sparrow', '179.Tennessee_Warbler', '062.Herring_Gull', '154.Red_eyed_Vireo', '092.Nighthawk', '038.Great_Crested_Flycatcher', '140.Summer_Tanager', '182.Yellow_Warbler', '096.Hooded_Oriole', '172.Nashville_Warbler', '071.Long_tailed_Jaeger', '042.Vermilion_Flycatcher', '185.Bohemian_Waxwing', '177.Prothonotary_Warbler', '019.Gray_Catbird', '065.Slaty_backed_Gull', '009.Brewer_Blackbird', '112.Great_Grey_Shrike', '063.Ivory_Gull', '006.Least_Auklet', '080.Green_Kingfisher', '181.Worm_eating_Warbler', '108.White_necked_Raven', '122.Harris_Sparrow', '115.Brewer_Sparrow', '184.Louisiana_Waterthrush', '167.Hooded_Warbler', '129.Song_Sparrow', '133.White_throated_Sparrow', '114.Black_throated_Sparrow', '170.Mourning_Warbler', '131.Vesper_Sparrow', '174.Palm_Warbler']\n",
      "\n",
      "50 ['043.Yellow_bellied_Flycatcher', '111.Loggerhead_Shrike', '023.Brandt_Cormorant', '098.Scott_Oriole', '055.Evening_Grosbeak', '130.Tree_Sparrow', '139.Scarlet_Tanager', '123.Henslow_Sparrow', '156.White_eyed_Vireo', '124.Le_Conte_Sparrow', '200.Common_Yellowthroat', '072.Pomarine_Jaeger', '173.Orange_crowned_Warbler', '028.Brown_Creeper', '119.Field_Sparrow', '165.Chestnut_sided_Warbler', '103.Sayornis', '180.Wilson_Warbler', '077.Tropical_Kingbird', '012.Yellow_headed_Blackbird', '045.Northern_Fulmar', '190.Red_cockaded_Woodpecker', '191.Red_headed_Woodpecker', '138.Tree_Swallow', '157.Yellow_throated_Vireo', '052.Pied_billed_Grebe', '033.Yellow_billed_Cuckoo', '164.Cerulean_Warbler', '031.Black_billed_Cuckoo', '143.Caspian_Tern', '094.White_breasted_Nuthatch', '070.Green_Violetear', '097.Orchard_Oriole', '091.Mockingbird', '104.American_Pipit', '127.Savannah_Sparrow', '161.Blue_winged_Warbler', '049.Boat_tailed_Grackle', '169.Magnolia_Warbler', '148.Green_tailed_Towhee', '113.Baird_Sparrow', '087.Mallard', '163.Cape_May_Warbler', '136.Barn_Swallow', '188.Pileated_Woodpecker', '084.Red_legged_Kittiwake', '026.Bronzed_Cowbird', '004.Groove_billed_Ani', '132.White_crowned_Sparrow', '168.Kentucky_Warbler']\n",
      "\n"
     ]
    }
   ],
   "source": [
    "# Read training classes  ---  Number of Classes: 100\n",
    "train_classes = read_file(os.path.join(CUB_PATH, \"trainclasses1.txt\"))\n",
    "print(len(train_classes), train_classes)\n",
    "print()\n",
    "\n",
    "# Read validation classes  ---  Number of Classes: 50\n",
    "val_classes = read_file(os.path.join(CUB_PATH, \"valclasses1.txt\"))\n",
    "print(len(val_classes), val_classes)\n",
    "print()\n",
    "\n",
    "# Read training and validation classes  ---  Number of Classes: 150 (100 + 50)\n",
    "trainval_classes = read_file(os.path.join(CUB_PATH, \"trainvalclasses.txt\"))\n",
    "print(len(trainval_classes), trainval_classes)\n",
    "print()\n",
    "\n",
    "# Read test classes  ---  Number of Classes: 50\n",
    "test_classes = read_file(os.path.join(CUB_PATH, \"testclasses.txt\"))\n",
    "print(len(test_classes), test_classes)\n",
    "print()"
   ]
  },
  {
   "cell_type": "code",
   "execution_count": 6,
   "metadata": {},
   "outputs": [
    {
     "name": "stdout",
     "output_type": "stream",
     "text": [
      "(11788, 2048)\n",
      "(11788, 1)\n",
      "dict_keys(['__header__', '__version__', '__globals__', 'allclasses_names', 'att', 'original_att', 'test_seen_loc', 'test_unseen_loc', 'trainval_loc'])\n"
     ]
    }
   ],
   "source": [
    "# Load image features\n",
    "features = sio.loadmat(os.path.join(CUB_PATH, \"res101.mat\"))['features'].T\n",
    "print(features.shape)\n",
    "\n",
    "# Load image labels\n",
    "labels   = sio.loadmat(os.path.join(CUB_PATH, \"res101.mat\"))['labels']\n",
    "print(labels.shape)\n",
    "\n",
    "# Load metadata of dataset\n",
    "metaData = sio.loadmat(os.path.join(CUB_PATH, \"att_splits.mat\"))\n",
    "print(metaData.keys())"
   ]
  },
  {
   "cell_type": "code",
   "execution_count": 7,
   "metadata": {},
   "outputs": [
    {
     "name": "stdout",
     "output_type": "stream",
     "text": [
      "['002.Laysan_Albatross', '003.Sooty_Albatross', '005.Crested_Auklet', '007.Parakeet_Auklet', '010.Red_winged_Blackbird', '011.Rusty_Blackbird', '012.Yellow_headed_Blackbird', '013.Bobolink', '015.Lazuli_Bunting', '016.Painted_Bunting', '017.Cardinal', '018.Spotted_Catbird', '019.Gray_Catbird', '020.Yellow_breasted_Chat', '021.Eastern_Towhee', '022.Chuck_will_Widow', '024.Red_faced_Cormorant', '025.Pelagic_Cormorant', '026.Bronzed_Cowbird', '027.Shiny_Cowbird', '028.Brown_Creeper', '030.Fish_Crow', '032.Mangrove_Cuckoo', '039.Least_Flycatcher', '040.Olive_sided_Flycatcher', '041.Scissor_tailed_Flycatcher', '042.Vermilion_Flycatcher', '044.Frigatebird', '045.Northern_Fulmar', '046.Gadwall', '047.American_Goldfinch', '048.European_Goldfinch', '050.Eared_Grebe', '052.Pied_billed_Grebe', '054.Blue_Grosbeak', '055.Evening_Grosbeak', '056.Pine_Grosbeak', '057.Rose_breasted_Grosbeak', '058.Pigeon_Guillemot', '059.California_Gull', '060.Glaucous_winged_Gull', '061.Heermann_Gull', '062.Herring_Gull', '063.Ivory_Gull', '064.Ring_billed_Gull', '065.Slaty_backed_Gull', '067.Anna_Hummingbird', '068.Ruby_throated_Hummingbird', '069.Rufous_Hummingbird', '070.Green_Violetear', '071.Long_tailed_Jaeger', '073.Blue_Jay', '074.Florida_Jay', '075.Green_Jay', '076.Dark_eyed_Junco', '077.Tropical_Kingbird', '078.Gray_Kingbird', '080.Green_Kingfisher', '081.Pied_Kingfisher', '082.Ringed_Kingfisher', '085.Horned_Lark', '087.Mallard', '088.Western_Meadowlark', '089.Hooded_Merganser', '090.Red_breasted_Merganser', '092.Nighthawk', '093.Clark_Nutcracker', '094.White_breasted_Nuthatch', '097.Orchard_Oriole', '099.Ovenbird', '100.Brown_Pelican', '104.American_Pipit', '105.Whip_poor_Will', '106.Horned_Puffin', '107.Common_Raven', '108.White_necked_Raven', '109.American_Redstart', '110.Geococcyx', '111.Loggerhead_Shrike', '113.Baird_Sparrow', '115.Brewer_Sparrow', '116.Chipping_Sparrow', '117.Clay_colored_Sparrow', '118.House_Sparrow', '120.Fox_Sparrow', '122.Harris_Sparrow', '123.Henslow_Sparrow', '124.Le_Conte_Sparrow', '125.Lincoln_Sparrow', '126.Nelson_Sharp_tailed_Sparrow', '127.Savannah_Sparrow', '128.Seaside_Sparrow', '129.Song_Sparrow', '131.Vesper_Sparrow', '132.White_crowned_Sparrow', '133.White_throated_Sparrow', '134.Cape_Glossy_Starling', '136.Barn_Swallow', '137.Cliff_Swallow', '139.Scarlet_Tanager', '140.Summer_Tanager', '141.Artic_Tern', '142.Black_Tern', '143.Caspian_Tern', '144.Common_Tern', '145.Elegant_Tern', '146.Forsters_Tern', '148.Green_tailed_Towhee', '149.Brown_Thrasher', '150.Sage_Thrasher', '151.Black_capped_Vireo', '152.Blue_headed_Vireo', '153.Philadelphia_Vireo', '154.Red_eyed_Vireo', '155.Warbling_Vireo', '157.Yellow_throated_Vireo', '158.Bay_breasted_Warbler', '159.Black_and_white_Warbler', '160.Black_throated_Blue_Warbler', '161.Blue_winged_Warbler', '162.Canada_Warbler', '164.Cerulean_Warbler', '167.Hooded_Warbler', '168.Kentucky_Warbler', '169.Magnolia_Warbler', '170.Mourning_Warbler', '171.Myrtle_Warbler', '172.Nashville_Warbler', '173.Orange_crowned_Warbler', '174.Palm_Warbler', '175.Pine_Warbler', '176.Prairie_Warbler', '177.Prothonotary_Warbler', '178.Swainson_Warbler', '179.Tennessee_Warbler', '181.Worm_eating_Warbler', '182.Yellow_Warbler', '184.Louisiana_Waterthrush', '188.Pileated_Woodpecker', '189.Red_bellied_Woodpecker', '190.Red_cockaded_Woodpecker', '191.Red_headed_Woodpecker', '192.Downy_Woodpecker', '193.Bewick_Wren', '194.Cactus_Wren', '195.Carolina_Wren', '196.House_Wren', '198.Rock_Wren', '199.Winter_Wren', '200.Common_Yellowthroat', '001.Black_footed_Albatross', '004.Groove_billed_Ani', '006.Least_Auklet', '008.Rhinoceros_Auklet', '009.Brewer_Blackbird', '014.Indigo_Bunting', '023.Brandt_Cormorant', '029.American_Crow', '031.Black_billed_Cuckoo', '033.Yellow_billed_Cuckoo', '034.Gray_crowned_Rosy_Finch', '035.Purple_Finch', '036.Northern_Flicker', '037.Acadian_Flycatcher', '038.Great_Crested_Flycatcher', '043.Yellow_bellied_Flycatcher', '049.Boat_tailed_Grackle', '051.Horned_Grebe', '053.Western_Grebe', '066.Western_Gull', '072.Pomarine_Jaeger', '079.Belted_Kingfisher', '083.White_breasted_Kingfisher', '084.Red_legged_Kittiwake', '086.Pacific_Loon', '091.Mockingbird', '095.Baltimore_Oriole', '096.Hooded_Oriole', '098.Scott_Oriole', '101.White_Pelican', '102.Western_Wood_Pewee', '103.Sayornis', '112.Great_Grey_Shrike', '114.Black_throated_Sparrow', '119.Field_Sparrow', '121.Grasshopper_Sparrow', '130.Tree_Sparrow', '135.Bank_Swallow', '138.Tree_Swallow', '147.Least_Tern', '156.White_eyed_Vireo', '163.Cape_May_Warbler', '165.Chestnut_sided_Warbler', '166.Golden_winged_Warbler', '180.Wilson_Warbler', '183.Northern_Waterthrush', '185.Bohemian_Waxwing', '186.Cedar_Waxwing', '187.American_Three_toed_Woodpecker', '197.Marsh_Wren']\n"
     ]
    }
   ],
   "source": [
    "# Read all classes\n",
    "all_classes = [str(currClass[0][0]) for currClass in metaData['allclasses_names']]\n",
    "print(all_classes)"
   ]
  },
  {
   "cell_type": "code",
   "execution_count": 8,
   "metadata": {},
   "outputs": [
    {
     "name": "stdout",
     "output_type": "stream",
     "text": [
      "|#ofIndices: 100 \t|Train Indices: [0, 1, 4, 5, 7, 8, 9, 10, 12, 13, 14, 15, 16, 17, 19, 21, 22, 23, 24, 25, 26, 27, 29, 30, 32, 34, 37, 38, 40, 42, 45, 46, 47, 50, 53, 56, 58, 59, 60, 62, 64, 65, 66, 69, 72, 73, 74, 75, 77, 80, 84, 85, 88, 89, 92, 93, 95, 96, 98, 102, 105, 106, 108, 111, 113, 117, 118, 122, 125, 126, 127, 130, 131, 133, 135, 143, 146, 148, 150, 152, 153, 155, 161, 163, 164, 168, 171, 176, 177, 179, 180, 182, 187, 189, 193, 195, 196, 197, 198, 199]\n"
     ]
    }
   ],
   "source": [
    "# Find train class indices\n",
    "train_indices = [i for i, class_ in enumerate(all_classes) if class_ in train_classes]\n",
    "print(\"|#ofIndices:\", len(train_indices), \"\\t|Train Indices:\", train_indices)"
   ]
  },
  {
   "cell_type": "code",
   "execution_count": 9,
   "metadata": {},
   "outputs": [
    {
     "name": "stdout",
     "output_type": "stream",
     "text": [
      "|#ofIndices: 50 \t|Val Indices: [2, 3, 11, 31, 36, 39, 41, 43, 44, 48, 51, 52, 54, 57, 63, 70, 76, 81, 82, 83, 91, 100, 101, 104, 109, 110, 112, 114, 116, 120, 129, 132, 134, 136, 137, 139, 142, 144, 145, 147, 154, 157, 160, 162, 167, 169, 172, 174, 183, 185]\n"
     ]
    }
   ],
   "source": [
    "# Find val class indices\n",
    "val_indices = [i for i, class_ in enumerate(all_classes) if class_ in val_classes]\n",
    "print(\"|#ofIndices:\", len(val_indices), \"\\t|Val Indices:\", val_indices)"
   ]
  },
  {
   "cell_type": "code",
   "execution_count": 10,
   "metadata": {},
   "outputs": [
    {
     "name": "stdout",
     "output_type": "stream",
     "text": [
      "|#ofIndices: 150 \t|TrainVal Indices: [0, 1, 2, 3, 4, 5, 7, 8, 9, 10, 11, 12, 13, 14, 15, 16, 17, 19, 21, 22, 23, 24, 25, 26, 27, 29, 30, 31, 32, 34, 36, 37, 38, 39, 40, 41, 42, 43, 44, 45, 46, 47, 48, 50, 51, 52, 53, 54, 56, 57, 58, 59, 60, 62, 63, 64, 65, 66, 69, 70, 72, 73, 74, 75, 76, 77, 80, 81, 82, 83, 84, 85, 88, 89, 91, 92, 93, 95, 96, 98, 100, 101, 102, 104, 105, 106, 108, 109, 110, 111, 112, 113, 114, 116, 117, 118, 120, 122, 125, 126, 127, 129, 130, 131, 132, 133, 134, 135, 136, 137, 139, 142, 143, 144, 145, 146, 147, 148, 150, 152, 153, 154, 155, 157, 160, 161, 162, 163, 164, 167, 168, 169, 171, 172, 174, 176, 177, 179, 180, 182, 183, 185, 187, 189, 193, 195, 196, 197, 198, 199]\n"
     ]
    }
   ],
   "source": [
    "trainval_indices = [i for i, class_ in enumerate(all_classes) if class_ in trainval_classes]\n",
    "print(\"|#ofIndices:\", len(trainval_indices), \"\\t|TrainVal Indices:\", trainval_indices)"
   ]
  },
  {
   "cell_type": "code",
   "execution_count": 11,
   "metadata": {},
   "outputs": [
    {
     "name": "stdout",
     "output_type": "stream",
     "text": [
      "|#ofIndices: 50 \t|Test Indices: [6, 18, 20, 28, 33, 35, 49, 55, 61, 67, 68, 71, 78, 79, 86, 87, 90, 94, 97, 99, 103, 107, 115, 119, 121, 123, 124, 128, 138, 140, 141, 149, 151, 156, 158, 159, 165, 166, 170, 173, 175, 178, 181, 184, 186, 188, 190, 191, 192, 194]\n"
     ]
    }
   ],
   "source": [
    "test_indices = [i for i, class_ in enumerate(all_classes) if class_ in test_classes]\n",
    "print(\"|#ofIndices:\", len(test_indices), \"\\t|Test Indices:\", test_indices)"
   ]
  },
  {
   "cell_type": "code",
   "execution_count": 12,
   "metadata": {},
   "outputs": [
    {
     "name": "stdout",
     "output_type": "stream",
     "text": [
      "Num TrainVal    :  7057\n",
      "Num Test Seen   :  1764\n",
      "Num Test Unseen :  2967\n"
     ]
    }
   ],
   "source": [
    "trainval_loc    = metaData['trainval_loc']\n",
    "test_seen_loc   = metaData['test_seen_loc']\n",
    "test_unseen_loc = metaData['test_unseen_loc']\n",
    "\n",
    "print(\"Num TrainVal    : \", str(trainval_loc.shape[0]))\n",
    "print(\"Num Test Seen   : \", str(test_seen_loc.shape[0]))\n",
    "print(\"Num Test Unseen : \", str(test_unseen_loc.shape[0]))"
   ]
  },
  {
   "cell_type": "code",
   "execution_count": 13,
   "metadata": {},
   "outputs": [],
   "source": [
    "if not os.path.exists(os.path.join(CUBP_PATH, \"test\")):\n",
    "    os.makedirs(os.path.join(CUBP_PATH, \"test\"))\n",
    "\n",
    "if not os.path.exists(os.path.join(CUBP_PATH, \"validation\")):\n",
    "    os.makedirs(os.path.join(CUBP_PATH, \"validation\"))"
   ]
  },
  {
   "cell_type": "code",
   "execution_count": 14,
   "metadata": {},
   "outputs": [],
   "source": [
    "# LABELS (PART I)\n",
    "\n",
    "trainval_labels    = (labels[trainval_loc - 1] - 1).reshape(-1, 1)\n",
    "test_seen_labels   = (labels[test_seen_loc - 1] - 1).reshape(-1, 1)\n",
    "test_unseen_labels = (labels[test_unseen_loc - 1] - 1).reshape(-1, 1)\n",
    "\n",
    "sio.savemat(os.path.join(CUBP_PATH, \"test\", \"trainval_labels.mat\"), {'trainval_labels':trainval_labels})\n",
    "sio.savemat(os.path.join(CUBP_PATH, \"test\", \"test_seen_labels.mat\"), {'test_seen_labels':test_seen_labels})\n",
    "sio.savemat(os.path.join(CUBP_PATH, \"test\", \"test_unseen_labels.mat\"), {'test_unseen_labels':test_unseen_labels})"
   ]
  },
  {
   "cell_type": "code",
   "execution_count": 15,
   "metadata": {},
   "outputs": [],
   "source": [
    "# FEATURES (PART I)\n",
    "\n",
    "trainval_features     = (features[trainval_loc - 1]).reshape(-1, 2048)\n",
    "test_seen_features    = (features[test_seen_loc - 1]).reshape(-1, 2048)\n",
    "test_unseen_features  = (features[test_unseen_loc - 1]).reshape(-1, 2048)\n",
    "\n",
    "sio.savemat(os.path.join(CUBP_PATH, \"test\", \"trainval_features.mat\"), {'trainval_features':trainval_features})\n",
    "sio.savemat(os.path.join(CUBP_PATH, \"test\", \"test_seen_features.mat\"), {'test_seen_features':test_seen_features})\n",
    "sio.savemat(os.path.join(CUBP_PATH, \"test\", \"test_unseen_features.mat\"), {'test_unseen_features':test_unseen_features})"
   ]
  },
  {
   "cell_type": "code",
   "execution_count": 16,
   "metadata": {},
   "outputs": [
    {
     "name": "stdout",
     "output_type": "stream",
     "text": [
      "Num train loc     : 4702\n",
      "Num val unseen loc: 2355\n"
     ]
    }
   ],
   "source": [
    "train_loc      = []\n",
    "val_unseen_loc = [] \n",
    "\n",
    "for i, label in enumerate(trainval_labels):\n",
    "\n",
    "    if label[0] in train_indices:\n",
    "        train_loc.append(i)\n",
    "    elif label[0] in val_indices:\n",
    "        val_unseen_loc.append(i)\n",
    "    else:\n",
    "        pass\n",
    "    \n",
    "val_unseen_loc    = np.asarray(val_unseen_loc)\n",
    "\n",
    "print(\"Num train loc     : %d\" % len(train_loc))\n",
    "print(\"Num val unseen loc: %d\" % len(val_unseen_loc))"
   ]
  },
  {
   "cell_type": "code",
   "execution_count": 17,
   "metadata": {},
   "outputs": [
    {
     "name": "stdout",
     "output_type": "stream",
     "text": [
      "Num x_train loc    : 4231\n",
      "Num x_val_seen loc : 471\n"
     ]
    }
   ],
   "source": [
    "from sklearn.model_selection import train_test_split\n",
    "splitRate = 0.1\n",
    "\n",
    "x_train_loc, x_val_seen_loc, _, _ = train_test_split(train_loc,\\\n",
    "                                                     trainval_labels[np.asarray(train_loc)],\\\n",
    "                                                     test_size=splitRate,\\\n",
    "                                                     random_state=123)\n",
    "x_train_loc    = np.asarray(x_train_loc)\n",
    "x_val_seen_loc = np.asarray(x_val_seen_loc)\n",
    "print(\"Num x_train loc    : %d\" % len(x_train_loc))\n",
    "print(\"Num x_val_seen loc : %d\" % len(x_val_seen_loc))"
   ]
  },
  {
   "cell_type": "code",
   "execution_count": 18,
   "metadata": {},
   "outputs": [],
   "source": [
    "# LABELS (PART II)\n",
    "\n",
    "train_labels      = trainval_labels[x_train_loc]\n",
    "val_seen_labels   = trainval_labels[x_val_seen_loc]\n",
    "val_unseen_labels = trainval_labels[val_unseen_loc]\n",
    "\n",
    "sio.savemat(os.path.join(CUBP_PATH, \"validation\", \"train_labels.mat\"), {'train_labels':train_labels})\n",
    "sio.savemat(os.path.join(CUBP_PATH, \"validation\", \"val_seen_labels.mat\"), {'val_seen_labels':val_seen_labels})\n",
    "sio.savemat(os.path.join(CUBP_PATH, \"validation\", \"val_unseen_labels.mat\"), {'val_unseen_labels':val_unseen_labels})"
   ]
  },
  {
   "cell_type": "code",
   "execution_count": 19,
   "metadata": {},
   "outputs": [],
   "source": [
    "# FEATURES (PART II)\n",
    "\n",
    "train_features      = trainval_features[x_train_loc]\n",
    "val_seen_features   = trainval_features[x_val_seen_loc]\n",
    "val_unseen_features = trainval_features[val_unseen_loc]\n",
    "\n",
    "sio.savemat(os.path.join(CUBP_PATH, \"validation\", \"train_features.mat\"), {'train_features':train_features})\n",
    "sio.savemat(os.path.join(CUBP_PATH, \"validation\", \"val_seen_features.mat\"), {'val_seen_features':val_seen_features})\n",
    "sio.savemat(os.path.join(CUBP_PATH, \"validation\", \"val_unseen_features.mat\"), {'val_unseen_features':val_unseen_features})"
   ]
  },
  {
   "cell_type": "code",
   "execution_count": 20,
   "metadata": {},
   "outputs": [
    {
     "name": "stdout",
     "output_type": "stream",
     "text": [
      "(200, 312)\n"
     ]
    }
   ],
   "source": [
    "attribute     = metaData['att'].T\n",
    "org_attribute = metaData['original_att'].T\n",
    "print(attribute.shape)"
   ]
  },
  {
   "cell_type": "code",
   "execution_count": 21,
   "metadata": {},
   "outputs": [],
   "source": [
    "# class-level attributes\n",
    "sio.savemat(os.path.join(CUBP_PATH, \"attributes.mat\"), {'attributes':attribute})"
   ]
  }
 ],
 "metadata": {
  "kernelspec": {
   "display_name": "Python 3",
   "language": "python",
   "name": "python3"
  },
  "language_info": {
   "codemirror_mode": {
    "name": "ipython",
    "version": 3
   },
   "file_extension": ".py",
   "mimetype": "text/x-python",
   "name": "python",
   "nbconvert_exporter": "python",
   "pygments_lexer": "ipython3",
   "version": "3.7.4"
  }
 },
 "nbformat": 4,
 "nbformat_minor": 2
}
