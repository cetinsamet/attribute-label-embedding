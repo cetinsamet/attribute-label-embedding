{
 "cells": [
  {
   "cell_type": "code",
   "execution_count": 1,
   "metadata": {},
   "outputs": [],
   "source": [
    "#\n",
    "# prepareAPY.ipynb\n",
    "#\n",
    "# Jupyter Notebook to prepare APY dataset for further zero-shot learning tasks \n",
    "# APY  : aPascal&aYahoo!\n",
    "#\n",
    "# n_clases    : 64\n",
    "# n_attributes: 32\n",
    "#\n",
    "# Written by cetinsamet -*- cetin.samet@metu.edu.tr\n",
    "# December, 2019 "
   ]
  },
  {
   "cell_type": "code",
   "execution_count": 2,
   "metadata": {},
   "outputs": [],
   "source": [
    "import scipy.io as sio\n",
    "import numpy as np\n",
    "import os"
   ]
  },
  {
   "cell_type": "code",
   "execution_count": 3,
   "metadata": {},
   "outputs": [],
   "source": [
    "def read_file(filepath):\n",
    "    file_content = []\n",
    "    with open(filepath, 'r') as infile:\n",
    "        for line in infile:\n",
    "            file_content.append(line.strip())\n",
    "    \n",
    "    return file_content"
   ]
  },
  {
   "cell_type": "code",
   "execution_count": 4,
   "metadata": {},
   "outputs": [],
   "source": [
    "APY_PATH = \"./APY\"\n",
    "APYP_PATH = \"./APYP\" #Preprocessed APY directory"
   ]
  },
  {
   "cell_type": "code",
   "execution_count": 6,
   "metadata": {},
   "outputs": [
    {
     "name": "stdout",
     "output_type": "stream",
     "text": [
      "15 ['bird', 'cat', 'mug', 'bus', 'diningtable', 'bottle', 'car', 'boat', 'dog', 'zebra', 'monkey', 'centaur', 'chair', 'bicycle', 'building']\n",
      "\n",
      "5 ['aeroplane', 'wolf', 'carriage', 'sofa', 'bag']\n",
      "\n",
      "20 ['aeroplane', 'bicycle', 'bird', 'boat', 'bottle', 'bus', 'car', 'cat', 'chair', 'dog', 'monkey', 'wolf', 'zebra', 'mug', 'building', 'bag', 'carriage', 'sofa', 'centaur', 'diningtable']\n",
      "\n",
      "12 ['tvmonitor', 'goat', 'motorbike', 'cow', 'jetski', 'train', 'sheep', 'statue', 'horse', 'person', 'pottedplant', 'donkey']\n",
      "\n"
     ]
    }
   ],
   "source": [
    "# Read training classes  ---  Number of Classes: 15\n",
    "train_classes = read_file(os.path.join(APY_PATH, \"trainclasses1.txt\"))\n",
    "print(len(train_classes), train_classes)\n",
    "print()\n",
    "\n",
    "# Read validation classes  ---  Number of Classes: 5\n",
    "val_classes = read_file(os.path.join(APY_PATH, \"valclasses1.txt\"))\n",
    "print(len(val_classes), val_classes)\n",
    "print()\n",
    "\n",
    "# Read training and validation classes  ---  Number of Classes: 20 (15 + 5)\n",
    "trainval_classes = read_file(os.path.join(APY_PATH, \"trainvalclasses.txt\"))\n",
    "print(len(trainval_classes), trainval_classes)\n",
    "print()\n",
    "\n",
    "# Read test classes  ---  Number of Classes: 12\n",
    "test_classes = read_file(os.path.join(APY_PATH, \"testclasses.txt\"))\n",
    "print(len(test_classes), test_classes)\n",
    "print()"
   ]
  },
  {
   "cell_type": "code",
   "execution_count": 7,
   "metadata": {},
   "outputs": [
    {
     "name": "stdout",
     "output_type": "stream",
     "text": [
      "(15339, 2048)\n",
      "(15339, 1)\n",
      "dict_keys(['__header__', '__version__', '__globals__', 'allclasses_names', 'att', 'original_att', 'test_seen_loc', 'test_unseen_loc', 'trainval_loc'])\n"
     ]
    }
   ],
   "source": [
    "# Load image features\n",
    "features = sio.loadmat(os.path.join(APY_PATH, \"res101.mat\"))['features'].T\n",
    "print(features.shape)\n",
    "\n",
    "# Load image labels\n",
    "labels   = sio.loadmat(os.path.join(APY_PATH, \"res101.mat\"))['labels']\n",
    "print(labels.shape)\n",
    "\n",
    "# Load metadata of dataset\n",
    "metaData = sio.loadmat(os.path.join(APY_PATH, \"att_splits.mat\"))\n",
    "print(metaData.keys())"
   ]
  },
  {
   "cell_type": "code",
   "execution_count": 8,
   "metadata": {},
   "outputs": [
    {
     "name": "stdout",
     "output_type": "stream",
     "text": [
      "['aeroplane', 'bicycle', 'bird', 'boat', 'bottle', 'bus', 'car', 'cat', 'chair', 'cow', 'diningtable', 'dog', 'horse', 'motorbike', 'person', 'pottedplant', 'sheep', 'sofa', 'train', 'tvmonitor', 'donkey', 'monkey', 'goat', 'wolf', 'jetski', 'zebra', 'centaur', 'mug', 'statue', 'building', 'bag', 'carriage']\n"
     ]
    }
   ],
   "source": [
    "# Read all classes\n",
    "all_classes = [str(currClass[0][0]) for currClass in metaData['allclasses_names']]\n",
    "print(all_classes)"
   ]
  },
  {
   "cell_type": "code",
   "execution_count": 9,
   "metadata": {},
   "outputs": [
    {
     "name": "stdout",
     "output_type": "stream",
     "text": [
      "|#ofIndices: 15 \t|Train Indices: [1, 2, 3, 4, 5, 6, 7, 8, 10, 11, 21, 25, 26, 27, 29]\n"
     ]
    }
   ],
   "source": [
    "# Find train class indices\n",
    "train_indices = [i for i, class_ in enumerate(all_classes) if class_ in train_classes]\n",
    "print(\"|#ofIndices:\", len(train_indices), \"\\t|Train Indices:\", train_indices)"
   ]
  },
  {
   "cell_type": "code",
   "execution_count": 10,
   "metadata": {},
   "outputs": [
    {
     "name": "stdout",
     "output_type": "stream",
     "text": [
      "|#ofIndices: 5 \t|Val Indices: [0, 17, 23, 30, 31]\n"
     ]
    }
   ],
   "source": [
    "# Find val class indices\n",
    "val_indices = [i for i, class_ in enumerate(all_classes) if class_ in val_classes]\n",
    "print(\"|#ofIndices:\", len(val_indices), \"\\t|Val Indices:\", val_indices)"
   ]
  },
  {
   "cell_type": "code",
   "execution_count": 11,
   "metadata": {},
   "outputs": [
    {
     "name": "stdout",
     "output_type": "stream",
     "text": [
      "|#ofIndices: 20 \t|TrainVal Indices: [0, 1, 2, 3, 4, 5, 6, 7, 8, 10, 11, 17, 21, 23, 25, 26, 27, 29, 30, 31]\n"
     ]
    }
   ],
   "source": [
    "trainval_indices = [i for i, class_ in enumerate(all_classes) if class_ in trainval_classes]\n",
    "print(\"|#ofIndices:\", len(trainval_indices), \"\\t|TrainVal Indices:\", trainval_indices)"
   ]
  },
  {
   "cell_type": "code",
   "execution_count": 12,
   "metadata": {},
   "outputs": [
    {
     "name": "stdout",
     "output_type": "stream",
     "text": [
      "|#ofIndices: 12 \t|Test Indices: [9, 12, 13, 14, 15, 16, 18, 19, 20, 22, 24, 28]\n"
     ]
    }
   ],
   "source": [
    "test_indices = [i for i, class_ in enumerate(all_classes) if class_ in test_classes]\n",
    "print(\"|#ofIndices:\", len(test_indices), \"\\t|Test Indices:\", test_indices)"
   ]
  },
  {
   "cell_type": "code",
   "execution_count": 13,
   "metadata": {},
   "outputs": [
    {
     "name": "stdout",
     "output_type": "stream",
     "text": [
      "Num TrainVal    :  5932\n",
      "Num Test Seen   :  1483\n",
      "Num Test Unseen :  7924\n"
     ]
    }
   ],
   "source": [
    "trainval_loc    = metaData['trainval_loc']\n",
    "test_seen_loc   = metaData['test_seen_loc']\n",
    "test_unseen_loc = metaData['test_unseen_loc']\n",
    "\n",
    "print(\"Num TrainVal    : \", str(trainval_loc.shape[0]))\n",
    "print(\"Num Test Seen   : \", str(test_seen_loc.shape[0]))\n",
    "print(\"Num Test Unseen : \", str(test_unseen_loc.shape[0]))"
   ]
  },
  {
   "cell_type": "code",
   "execution_count": 15,
   "metadata": {},
   "outputs": [],
   "source": [
    "if not os.path.exists(os.path.join(APY_PATH, \"test\")):\n",
    "    os.makedirs(os.path.join(APYP_PATH, \"test\"))\n",
    "\n",
    "if not os.path.exists(os.path.join(APYP_PATH, \"validation\")):\n",
    "    os.makedirs(os.path.join(APYP_PATH, \"validation\"))"
   ]
  },
  {
   "cell_type": "code",
   "execution_count": 16,
   "metadata": {},
   "outputs": [],
   "source": [
    "# LABELS (PART I)\n",
    "\n",
    "trainval_labels    = (labels[trainval_loc - 1] - 1).reshape(-1, 1)\n",
    "test_seen_labels   = (labels[test_seen_loc - 1] - 1).reshape(-1, 1)\n",
    "test_unseen_labels = (labels[test_unseen_loc - 1] - 1).reshape(-1, 1)\n",
    "\n",
    "sio.savemat(os.path.join(APYP_PATH, \"test\", \"trainval_labels.mat\"), {'trainval_labels':trainval_labels})\n",
    "sio.savemat(os.path.join(APYP_PATH, \"test\", \"test_seen_labels.mat\"), {'test_seen_labels':test_seen_labels})\n",
    "sio.savemat(os.path.join(APYP_PATH, \"test\", \"test_unseen_labels.mat\"), {'test_unseen_labels':test_unseen_labels})"
   ]
  },
  {
   "cell_type": "code",
   "execution_count": 17,
   "metadata": {},
   "outputs": [],
   "source": [
    "# FEATURES (PART I)\n",
    "\n",
    "trainval_features     = (features[trainval_loc - 1]).reshape(-1, 2048)\n",
    "test_seen_features    = (features[test_seen_loc - 1]).reshape(-1, 2048)\n",
    "test_unseen_features  = (features[test_unseen_loc - 1]).reshape(-1, 2048)\n",
    "\n",
    "sio.savemat(os.path.join(APYP_PATH, \"test\", \"trainval_features.mat\"), {'trainval_features':trainval_features})\n",
    "sio.savemat(os.path.join(APYP_PATH, \"test\", \"test_seen_features.mat\"), {'test_seen_features':test_seen_features})\n",
    "sio.savemat(os.path.join(APYP_PATH, \"test\", \"test_unseen_features.mat\"), {'test_unseen_features':test_unseen_features})"
   ]
  },
  {
   "cell_type": "code",
   "execution_count": 18,
   "metadata": {},
   "outputs": [
    {
     "name": "stdout",
     "output_type": "stream",
     "text": [
      "Num train loc     : 4906\n",
      "Num val unseen loc: 1026\n"
     ]
    }
   ],
   "source": [
    "train_loc      = []\n",
    "val_unseen_loc = [] \n",
    "\n",
    "for i, label in enumerate(trainval_labels):\n",
    "\n",
    "    if label[0] in train_indices:\n",
    "        train_loc.append(i)\n",
    "    elif label[0] in val_indices:\n",
    "        val_unseen_loc.append(i)\n",
    "    else:\n",
    "        pass\n",
    "    \n",
    "val_unseen_loc    = np.asarray(val_unseen_loc)\n",
    "\n",
    "print(\"Num train loc     : %d\" % len(train_loc))\n",
    "print(\"Num val unseen loc: %d\" % len(val_unseen_loc))"
   ]
  },
  {
   "cell_type": "code",
   "execution_count": 19,
   "metadata": {},
   "outputs": [
    {
     "name": "stdout",
     "output_type": "stream",
     "text": [
      "Num x_train loc    : 3287\n",
      "Num x_val_seen loc : 1619\n"
     ]
    }
   ],
   "source": [
    "from sklearn.model_selection import train_test_split\n",
    "splitRate = 0.33\n",
    "\n",
    "x_train_loc, x_val_seen_loc, _, _ = train_test_split(train_loc,\\\n",
    "                                                     trainval_labels[np.asarray(train_loc)],\\\n",
    "                                                     test_size=splitRate,\\\n",
    "                                                     random_state=123)\n",
    "x_train_loc    = np.asarray(x_train_loc)\n",
    "x_val_seen_loc = np.asarray(x_val_seen_loc)\n",
    "print(\"Num x_train loc    : %d\" % len(x_train_loc))\n",
    "print(\"Num x_val_seen loc : %d\" % len(x_val_seen_loc))"
   ]
  },
  {
   "cell_type": "code",
   "execution_count": 20,
   "metadata": {},
   "outputs": [],
   "source": [
    "# LABELS (PART II)\n",
    "\n",
    "train_labels      = trainval_labels[x_train_loc]\n",
    "val_seen_labels   = trainval_labels[x_val_seen_loc]\n",
    "val_unseen_labels = trainval_labels[val_unseen_loc]\n",
    "\n",
    "sio.savemat(os.path.join(APYP_PATH, \"validation\", \"train_labels.mat\"), {'train_labels':train_labels})\n",
    "sio.savemat(os.path.join(APYP_PATH, \"validation\", \"val_seen_labels.mat\"), {'val_seen_labels':val_seen_labels})\n",
    "sio.savemat(os.path.join(APYP_PATH, \"validation\", \"val_unseen_labels.mat\"), {'val_unseen_labels':val_unseen_labels})"
   ]
  },
  {
   "cell_type": "code",
   "execution_count": 21,
   "metadata": {},
   "outputs": [],
   "source": [
    "# FEATURES (PART II)\n",
    "\n",
    "train_features      = trainval_features[x_train_loc]\n",
    "val_seen_features   = trainval_features[x_val_seen_loc]\n",
    "val_unseen_features = trainval_features[val_unseen_loc]\n",
    "\n",
    "sio.savemat(os.path.join(APYP_PATH, \"validation\", \"train_features.mat\"), {'train_features':train_features})\n",
    "sio.savemat(os.path.join(APYP_PATH, \"validation\", \"val_seen_features.mat\"), {'val_seen_features':val_seen_features})\n",
    "sio.savemat(os.path.join(APYP_PATH, \"validation\", \"val_unseen_features.mat\"), {'val_unseen_features':val_unseen_features})"
   ]
  },
  {
   "cell_type": "code",
   "execution_count": 22,
   "metadata": {},
   "outputs": [
    {
     "name": "stdout",
     "output_type": "stream",
     "text": [
      "(32, 64)\n"
     ]
    }
   ],
   "source": [
    "attribute     = metaData['att'].T\n",
    "org_attribute = metaData['original_att'].T\n",
    "print(attribute.shape)"
   ]
  },
  {
   "cell_type": "code",
   "execution_count": 25,
   "metadata": {},
   "outputs": [],
   "source": [
    "# class-level attributes\n",
    "sio.savemat(os.path.join(APYP_PATH, \"attributes.mat\"), {'attributes':attribute})"
   ]
  }
 ],
 "metadata": {
  "kernelspec": {
   "display_name": "Python 3",
   "language": "python",
   "name": "python3"
  },
  "language_info": {
   "codemirror_mode": {
    "name": "ipython",
    "version": 3
   },
   "file_extension": ".py",
   "mimetype": "text/x-python",
   "name": "python",
   "nbconvert_exporter": "python",
   "pygments_lexer": "ipython3",
   "version": "3.7.4"
  }
 },
 "nbformat": 4,
 "nbformat_minor": 2
}
